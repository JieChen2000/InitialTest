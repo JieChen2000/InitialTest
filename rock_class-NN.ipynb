{
 "cells": [
  {
   "cell_type": "code",
   "execution_count": 1,
   "metadata": {},
   "outputs": [
    {
     "data": {
      "text/html": [
       "<div>\n",
       "<style scoped>\n",
       "    .dataframe tbody tr th:only-of-type {\n",
       "        vertical-align: middle;\n",
       "    }\n",
       "\n",
       "    .dataframe tbody tr th {\n",
       "        vertical-align: top;\n",
       "    }\n",
       "\n",
       "    .dataframe thead th {\n",
       "        text-align: right;\n",
       "    }\n",
       "</style>\n",
       "<table border=\"1\" class=\"dataframe\">\n",
       "  <thead>\n",
       "    <tr style=\"text-align: right;\">\n",
       "      <th></th>\n",
       "      <th>Facies</th>\n",
       "      <th>Depth</th>\n",
       "      <th>GR</th>\n",
       "      <th>ILD_log10</th>\n",
       "      <th>DeltaPHI</th>\n",
       "      <th>PHIND</th>\n",
       "      <th>PE</th>\n",
       "      <th>NM_M</th>\n",
       "      <th>RELPOS</th>\n",
       "    </tr>\n",
       "  </thead>\n",
       "  <tbody>\n",
       "    <tr>\n",
       "      <th>count</th>\n",
       "      <td>729.000000</td>\n",
       "      <td>729.000000</td>\n",
       "      <td>729.000000</td>\n",
       "      <td>729.000000</td>\n",
       "      <td>729.000000</td>\n",
       "      <td>729.000000</td>\n",
       "      <td>729.000000</td>\n",
       "      <td>729.000000</td>\n",
       "      <td>729.000000</td>\n",
       "    </tr>\n",
       "    <tr>\n",
       "      <th>mean</th>\n",
       "      <td>4.585734</td>\n",
       "      <td>2879.136488</td>\n",
       "      <td>64.837217</td>\n",
       "      <td>0.639901</td>\n",
       "      <td>3.817634</td>\n",
       "      <td>12.987118</td>\n",
       "      <td>3.801451</td>\n",
       "      <td>1.529492</td>\n",
       "      <td>0.524388</td>\n",
       "    </tr>\n",
       "    <tr>\n",
       "      <th>std</th>\n",
       "      <td>2.546516</td>\n",
       "      <td>136.155054</td>\n",
       "      <td>28.159338</td>\n",
       "      <td>0.248293</td>\n",
       "      <td>4.968319</td>\n",
       "      <td>6.910348</td>\n",
       "      <td>0.875525</td>\n",
       "      <td>0.499472</td>\n",
       "      <td>0.295516</td>\n",
       "    </tr>\n",
       "    <tr>\n",
       "      <th>min</th>\n",
       "      <td>1.000000</td>\n",
       "      <td>2580.000000</td>\n",
       "      <td>13.250000</td>\n",
       "      <td>-0.025949</td>\n",
       "      <td>-21.832000</td>\n",
       "      <td>2.700000</td>\n",
       "      <td>0.646000</td>\n",
       "      <td>1.000000</td>\n",
       "      <td>0.010000</td>\n",
       "    </tr>\n",
       "    <tr>\n",
       "      <th>25%</th>\n",
       "      <td>2.000000</td>\n",
       "      <td>2775.000000</td>\n",
       "      <td>46.219000</td>\n",
       "      <td>0.488127</td>\n",
       "      <td>1.300000</td>\n",
       "      <td>8.115000</td>\n",
       "      <td>3.200000</td>\n",
       "      <td>1.000000</td>\n",
       "      <td>0.261000</td>\n",
       "    </tr>\n",
       "    <tr>\n",
       "      <th>50%</th>\n",
       "      <td>4.000000</td>\n",
       "      <td>2905.500000</td>\n",
       "      <td>65.240000</td>\n",
       "      <td>0.625000</td>\n",
       "      <td>3.504000</td>\n",
       "      <td>12.005000</td>\n",
       "      <td>3.600000</td>\n",
       "      <td>2.000000</td>\n",
       "      <td>0.544000</td>\n",
       "    </tr>\n",
       "    <tr>\n",
       "      <th>75%</th>\n",
       "      <td>7.000000</td>\n",
       "      <td>2986.500000</td>\n",
       "      <td>79.880000</td>\n",
       "      <td>0.810000</td>\n",
       "      <td>6.600000</td>\n",
       "      <td>16.355000</td>\n",
       "      <td>4.400000</td>\n",
       "      <td>2.000000</td>\n",
       "      <td>0.789000</td>\n",
       "    </tr>\n",
       "    <tr>\n",
       "      <th>max</th>\n",
       "      <td>9.000000</td>\n",
       "      <td>3121.000000</td>\n",
       "      <td>219.375000</td>\n",
       "      <td>1.479000</td>\n",
       "      <td>18.500000</td>\n",
       "      <td>75.500000</td>\n",
       "      <td>7.652000</td>\n",
       "      <td>2.000000</td>\n",
       "      <td>1.000000</td>\n",
       "    </tr>\n",
       "  </tbody>\n",
       "</table>\n",
       "</div>"
      ],
      "text/plain": [
       "           Facies        Depth          GR   ILD_log10    DeltaPHI  \\\n",
       "count  729.000000   729.000000  729.000000  729.000000  729.000000   \n",
       "mean     4.585734  2879.136488   64.837217    0.639901    3.817634   \n",
       "std      2.546516   136.155054   28.159338    0.248293    4.968319   \n",
       "min      1.000000  2580.000000   13.250000   -0.025949  -21.832000   \n",
       "25%      2.000000  2775.000000   46.219000    0.488127    1.300000   \n",
       "50%      4.000000  2905.500000   65.240000    0.625000    3.504000   \n",
       "75%      7.000000  2986.500000   79.880000    0.810000    6.600000   \n",
       "max      9.000000  3121.000000  219.375000    1.479000   18.500000   \n",
       "\n",
       "            PHIND          PE        NM_M      RELPOS  \n",
       "count  729.000000  729.000000  729.000000  729.000000  \n",
       "mean    12.987118    3.801451    1.529492    0.524388  \n",
       "std      6.910348    0.875525    0.499472    0.295516  \n",
       "min      2.700000    0.646000    1.000000    0.010000  \n",
       "25%      8.115000    3.200000    1.000000    0.261000  \n",
       "50%     12.005000    3.600000    2.000000    0.544000  \n",
       "75%     16.355000    4.400000    2.000000    0.789000  \n",
       "max     75.500000    7.652000    2.000000    1.000000  "
      ]
     },
     "execution_count": 1,
     "metadata": {},
     "output_type": "execute_result"
    }
   ],
   "source": [
    "import pandas as pd\n",
    "data = pd.read_csv('training_data.csv')\n",
    "data.describe()\n",
    "test_well = data[data['Well Name'] == 'SHANKLE']\n",
    "data = data[data['Well Name'] != 'SHANKLE']\n",
    "data2 = data.sample(n=729)\n",
    "data2.describe()   # use random sampled 729 events gives \n",
    "#F1 scroe 0.51 for CV(nonstratified split), 0.36 for Test \n",
    "#F1 scroe 0.55 for CV(nonstratified split), 0.41 for Test "
   ]
  },
  {
   "cell_type": "code",
   "execution_count": 2,
   "metadata": {},
   "outputs": [
    {
     "data": {
      "text/plain": [
       "9    81\n",
       "8    81\n",
       "7    81\n",
       "6    81\n",
       "5    81\n",
       "4    81\n",
       "3    81\n",
       "2    81\n",
       "1    81\n",
       "Name: Facies, dtype: int64"
      ]
     },
     "execution_count": 2,
     "metadata": {},
     "output_type": "execute_result"
    }
   ],
   "source": [
    "##try equalize \n",
    "data_stratify = data[data['Facies'] == 7]  \n",
    "for item in (1,2,3,4,5,6,8,9):\n",
    "    data_stratify.describe()\n",
    "    data_temp  =  data[data['Facies'] == item]\n",
    "    data_temp2= data_temp[:81]\n",
    "    data_stratify=data_stratify.append(data_temp2)\n",
    "    #print data_stratify[:3]\n",
    "data_stratify['Facies'].value_counts()\n",
    "data = data_stratify # use stratified sampled 729 events gives \n",
    "#F1 scroe 0.7 for CV (nonstratified split), 0.35 for Test \n",
    "#F1 scroe 0.73 for CV (stratified split), 0.37 for Test \n",
    "data['Facies'].value_counts() \n",
    "#data = data2  "
   ]
  },
  {
   "cell_type": "code",
   "execution_count": 3,
   "metadata": {},
   "outputs": [
    {
     "data": {
      "text/plain": [
       "count    729.000000\n",
       "mean       5.000000\n",
       "std        2.583762\n",
       "min        1.000000\n",
       "25%        3.000000\n",
       "50%        5.000000\n",
       "75%        7.000000\n",
       "max        9.000000\n",
       "Name: Facies, dtype: float64"
      ]
     },
     "execution_count": 3,
     "metadata": {},
     "output_type": "execute_result"
    }
   ],
   "source": [
    "features = ['GR', 'ILD_log10', 'DeltaPHI','PHIND','PE','NM_M', 'RELPOS']\n",
    "feature_vectors = data[features]\n",
    "facies_labels = data['Facies']\n",
    "facies_labels.describe()"
   ]
  },
  {
   "cell_type": "code",
   "execution_count": 4,
   "metadata": {},
   "outputs": [],
   "source": [
    "from sklearn.preprocessing import StandardScaler\n",
    "scaler = StandardScaler().fit(feature_vectors)\n",
    "scaled_features = scaler.transform(feature_vectors) #ndarray now. "
   ]
  },
  {
   "cell_type": "code",
   "execution_count": 5,
   "metadata": {},
   "outputs": [
    {
     "name": "stderr",
     "output_type": "stream",
     "text": [
      "C:\\Users\\jchen\\AppData\\Local\\Continuum\\anaconda3\\lib\\site-packages\\sklearn\\cross_validation.py:41: DeprecationWarning: This module was deprecated in version 0.18 in favor of the model_selection module into which all the refactored classes and functions are moved. Also note that the interface of the new CV iterators are different from that of this module. This module will be removed in 0.20.\n",
      "  \"This module will be removed in 0.20.\", DeprecationWarning)\n"
     ]
    },
    {
     "data": {
      "text/plain": [
       "7    5\n",
       "9    4\n",
       "8    4\n",
       "6    4\n",
       "5    4\n",
       "4    4\n",
       "3    4\n",
       "2    4\n",
       "1    4\n",
       "Name: Facies, dtype: int64"
      ]
     },
     "execution_count": 5,
     "metadata": {},
     "output_type": "execute_result"
    }
   ],
   "source": [
    "from sklearn.cross_validation import train_test_split\n",
    "X_train, X_cv, y_train, y_cv = train_test_split(scaled_features, facies_labels,test_size=0.05, random_state=42,stratify=facies_labels)\n",
    "#X_train, X_cv, y_train, y_cv = train_test_split(scaled_features, facies_labels,test_size=0.05, random_state=42)\n",
    "#y_train.value_counts()\n",
    "y_cv.value_counts()"
   ]
  },
  {
   "cell_type": "code",
   "execution_count": 6,
   "metadata": {
    "scrolled": true
   },
   "outputs": [],
   "source": [
    "from sklearn.metrics import classification_report\n",
    "target_names = ['SS', 'CSiS', 'FSiS', 'SiSh','MS', 'WS', 'D','PS', 'BS']"
   ]
  },
  {
   "cell_type": "code",
   "execution_count": 7,
   "metadata": {},
   "outputs": [
    {
     "data": {
      "text/plain": [
       "MLPClassifier(activation='relu', alpha=0.1, batch_size='auto', beta_1=0.9,\n",
       "       beta_2=0.999, early_stopping=False, epsilon=1e-08,\n",
       "       hidden_layer_sizes=(15,), learning_rate='constant',\n",
       "       learning_rate_init=0.001, max_iter=200, momentum=0.9,\n",
       "       nesterovs_momentum=True, power_t=0.5, random_state=1, shuffle=True,\n",
       "       solver='lbfgs', tol=0.0001, validation_fraction=0.1, verbose=False,\n",
       "       warm_start=False)"
      ]
     },
     "execution_count": 7,
     "metadata": {},
     "output_type": "execute_result"
    }
   ],
   "source": [
    "from sklearn.neural_network import MLPClassifier\n",
    "clf = MLPClassifier(solver='lbfgs', alpha=1e-1,hidden_layer_sizes=(15,), random_state=1)\n",
    "clf.fit(X_train, y_train)"
   ]
  },
  {
   "cell_type": "code",
   "execution_count": 8,
   "metadata": {},
   "outputs": [
    {
     "name": "stdout",
     "output_type": "stream",
     "text": [
      "             precision    recall  f1-score   support\n",
      "\n",
      "         SS       1.00      0.50      0.67         4\n",
      "       CSiS       0.67      1.00      0.80         4\n",
      "       FSiS       1.00      0.75      0.86         4\n",
      "       SiSh       1.00      0.50      0.67         4\n",
      "         MS       0.40      0.50      0.44         4\n",
      "         WS       0.75      0.75      0.75         4\n",
      "          D       0.71      1.00      0.83         5\n",
      "         PS       0.60      0.75      0.67         4\n",
      "         BS       1.00      0.75      0.86         4\n",
      "\n",
      "avg / total       0.79      0.73      0.73        37\n",
      "\n"
     ]
    }
   ],
   "source": [
    "y_cv_pred = clf.predict(X_cv) \n",
    "print(classification_report(y_cv, y_cv_pred,target_names=target_names))"
   ]
  },
  {
   "cell_type": "code",
   "execution_count": 9,
   "metadata": {},
   "outputs": [],
   "source": [
    "y_test = test_well['Facies']"
   ]
  },
  {
   "cell_type": "code",
   "execution_count": 10,
   "metadata": {},
   "outputs": [],
   "source": [
    "well_features = test_well.drop(['Facies','Formation','Well Name','Depth'],axis=1)\n",
    "X_test = scaler.transform(well_features)\n",
    "y_pred = clf.predict(X_test)\n",
    "test_well['Prediction'] = y_pred"
   ]
  },
  {
   "cell_type": "code",
   "execution_count": 11,
   "metadata": {},
   "outputs": [
    {
     "name": "stdout",
     "output_type": "stream",
     "text": [
      "             precision    recall  f1-score   support\n",
      "\n",
      "         SS       0.48      0.67      0.56        89\n",
      "       CSiS       0.38      0.31      0.35        89\n",
      "       FSiS       0.62      0.30      0.40       117\n",
      "       SiSh       0.07      0.29      0.12         7\n",
      "         MS       0.03      0.11      0.05        19\n",
      "         WS       0.72      0.25      0.38        71\n",
      "          D       0.35      1.00      0.52        17\n",
      "         PS       0.00      0.00      0.00        40\n",
      "         BS       0.00      0.00      0.00         0\n",
      "\n",
      "avg / total       0.46      0.36      0.37       449\n",
      "\n"
     ]
    },
    {
     "name": "stderr",
     "output_type": "stream",
     "text": [
      "C:\\Users\\jchen\\AppData\\Local\\Continuum\\anaconda3\\lib\\site-packages\\sklearn\\metrics\\classification.py:1137: UndefinedMetricWarning: Recall and F-score are ill-defined and being set to 0.0 in labels with no true samples.\n",
      "  'recall', 'true', average, warn_for)\n"
     ]
    }
   ],
   "source": [
    "\n",
    "print(classification_report(y_test, y_pred,target_names=target_names))"
   ]
  },
  {
   "cell_type": "code",
   "execution_count": null,
   "metadata": {},
   "outputs": [],
   "source": []
  }
 ],
 "metadata": {
  "kernelspec": {
   "display_name": "Python 3",
   "language": "python",
   "name": "python3"
  },
  "language_info": {
   "codemirror_mode": {
    "name": "ipython",
    "version": 3
   },
   "file_extension": ".py",
   "mimetype": "text/x-python",
   "name": "python",
   "nbconvert_exporter": "python",
   "pygments_lexer": "ipython3",
   "version": "3.6.5"
  }
 },
 "nbformat": 4,
 "nbformat_minor": 2
}
