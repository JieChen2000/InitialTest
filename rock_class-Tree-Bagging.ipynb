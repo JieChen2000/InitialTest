{
 "cells": [
  {
   "cell_type": "code",
   "execution_count": 1,
   "metadata": {},
   "outputs": [],
   "source": [
    "import pandas as pd\n",
    "data = pd.read_csv('training_data.csv')\n",
    "data.describe()\n",
    "test_well = data[data['Well Name'] == 'SHANKLE']\n",
    "data = data[data['Well Name'] != 'SHANKLE']\n",
    "#test_well = data[data['Well Name'] == 'SHRIMPLIN']\n",
    "#data = data[data['Well Name'] != 'SHRIMPLIN']"
   ]
  },
  {
   "cell_type": "code",
   "execution_count": 2,
   "metadata": {},
   "outputs": [
    {
     "data": {
      "text/plain": [
       "count    2783.000000\n",
       "mean        4.558390\n",
       "std         2.515249\n",
       "min         1.000000\n",
       "25%         2.000000\n",
       "50%         4.000000\n",
       "75%         7.000000\n",
       "max         9.000000\n",
       "Name: Facies, dtype: float64"
      ]
     },
     "execution_count": 2,
     "metadata": {},
     "output_type": "execute_result"
    }
   ],
   "source": [
    "features = ['GR', 'ILD_log10', 'DeltaPHI','PHIND','PE','NM_M', 'RELPOS']\n",
    "feature_vectors = data[features]\n",
    "facies_labels = data['Facies']\n",
    "facies_labels.describe()"
   ]
  },
  {
   "cell_type": "code",
   "execution_count": 3,
   "metadata": {},
   "outputs": [],
   "source": [
    "from sklearn.preprocessing import StandardScaler\n",
    "scaler = StandardScaler().fit(feature_vectors)\n",
    "scaled_features = scaler.transform(feature_vectors) #ndarray now. "
   ]
  },
  {
   "cell_type": "code",
   "execution_count": 4,
   "metadata": {},
   "outputs": [
    {
     "name": "stderr",
     "output_type": "stream",
     "text": [
      "C:\\Users\\jchen\\AppData\\Local\\Continuum\\anaconda3\\lib\\site-packages\\sklearn\\cross_validation.py:41: DeprecationWarning: This module was deprecated in version 0.18 in favor of the model_selection module into which all the refactored classes and functions are moved. Also note that the interface of the new CV iterators are different from that of this module. This module will be removed in 0.20.\n",
      "  \"This module will be removed in 0.20.\", DeprecationWarning)\n"
     ]
    },
    {
     "data": {
      "text/plain": [
       "array([[ 0.78163021,  0.97098416, -0.44696904, ...,  0.11444223,\n",
       "         0.95329909, -1.47177523],\n",
       "       [-1.1921925 ,  2.08932582,  0.14767802, ...,  2.23087371,\n",
       "         0.95329909, -0.29590661],\n",
       "       [-0.27367186, -1.13130049, -0.54607688, ..., -1.01312802,\n",
       "        -1.04898873, -0.8386152 ],\n",
       "       ...,\n",
       "       [ 0.2221964 ,  0.04857211,  0.98018391, ..., -0.74689616,\n",
       "        -1.04898873,  0.94954002],\n",
       "       [ 0.53236719, -0.39031519, -0.20911021, ..., -0.96726455,\n",
       "        -1.04898873,  0.72341145],\n",
       "       [ 0.34268302, -0.51115421,  1.13875646, ..., -0.78940377,\n",
       "        -1.04898873, -1.33261918]])"
      ]
     },
     "execution_count": 4,
     "metadata": {},
     "output_type": "execute_result"
    }
   ],
   "source": [
    "from sklearn.cross_validation import train_test_split\n",
    "X_train, X_cv, y_train, y_cv = train_test_split(scaled_features, facies_labels,test_size=0.5, random_state=42)\n",
    "X_train"
   ]
  },
  {
   "cell_type": "code",
   "execution_count": 5,
   "metadata": {
    "scrolled": true
   },
   "outputs": [],
   "source": [
    "from sklearn.metrics import classification_report\n",
    "target_names = ['SS', 'CSiS', 'FSiS', 'SiSh','MS', 'WS', 'D','PS', 'BS']\n",
    "y_test = test_well['Facies']\n",
    "well_features = test_well.drop(['Facies','Formation','Well Name','Depth'],axis=1)\n",
    "X_test = scaler.transform(well_features)"
   ]
  },
  {
   "cell_type": "code",
   "execution_count": 6,
   "metadata": {},
   "outputs": [
    {
     "data": {
      "text/plain": [
       "0.5650611071171819"
      ]
     },
     "execution_count": 6,
     "metadata": {},
     "output_type": "execute_result"
    }
   ],
   "source": [
    "from sklearn.tree import DecisionTreeClassifier\n",
    "from sklearn.ensemble import BaggingClassifier\n",
    "clf = BaggingClassifier(DecisionTreeClassifier(max_depth=4,min_samples_leaf=10),n_estimators=300,max_samples=1000,\n",
    "                        bootstrap=True, n_jobs=-1,oob_score=True)\n",
    "clf.fit(X_train, y_train)\n",
    "clf.oob_score_"
   ]
  },
  {
   "cell_type": "code",
   "execution_count": 7,
   "metadata": {},
   "outputs": [
    {
     "name": "stdout",
     "output_type": "stream",
     "text": [
      "             precision    recall  f1-score   support\n",
      "\n",
      "         SS       0.90      0.59      0.71        92\n",
      "       CSiS       0.66      0.82      0.74       331\n",
      "       FSiS       0.70      0.54      0.61       230\n",
      "       SiSh       0.44      0.67      0.53        82\n",
      "         MS       0.00      0.00      0.00       111\n",
      "         WS       0.45      0.75      0.56       202\n",
      "          D       0.62      0.13      0.22        38\n",
      "         PS       0.60      0.49      0.54       227\n",
      "         BS       0.57      0.63      0.60        79\n",
      "\n",
      "avg / total       0.57      0.59      0.56      1392\n",
      "\n"
     ]
    },
    {
     "name": "stderr",
     "output_type": "stream",
     "text": [
      "C:\\Users\\jchen\\AppData\\Local\\Continuum\\anaconda3\\lib\\site-packages\\sklearn\\metrics\\classification.py:1135: UndefinedMetricWarning: Precision and F-score are ill-defined and being set to 0.0 in labels with no predicted samples.\n",
      "  'precision', 'predicted', average, warn_for)\n"
     ]
    }
   ],
   "source": [
    "y_cv_pred = clf.predict(X_cv) \n",
    "print(classification_report(y_cv, y_cv_pred,target_names=target_names))"
   ]
  },
  {
   "cell_type": "code",
   "execution_count": 8,
   "metadata": {},
   "outputs": [
    {
     "name": "stdout",
     "output_type": "stream",
     "text": [
      "             precision    recall  f1-score   support\n",
      "\n",
      "         SS       0.20      0.02      0.04        89\n",
      "       CSiS       0.31      0.79      0.45        89\n",
      "       FSiS       0.74      0.39      0.51       117\n",
      "       SiSh       0.20      0.57      0.30         7\n",
      "         MS       0.00      0.00      0.00        19\n",
      "         WS       0.68      0.73      0.70        71\n",
      "          D       1.00      0.06      0.11        17\n",
      "         PS       0.45      0.62      0.53        40\n",
      "\n",
      "avg / total       0.48      0.45      0.40       449\n",
      "\n"
     ]
    },
    {
     "name": "stderr",
     "output_type": "stream",
     "text": [
      "C:\\Users\\jchen\\AppData\\Local\\Continuum\\anaconda3\\lib\\site-packages\\sklearn\\metrics\\classification.py:1428: UserWarning: labels size, 8, does not match size of target_names, 9\n",
      "  .format(len(labels), len(target_names))\n",
      "C:\\Users\\jchen\\AppData\\Local\\Continuum\\anaconda3\\lib\\site-packages\\sklearn\\metrics\\classification.py:1135: UndefinedMetricWarning: Precision and F-score are ill-defined and being set to 0.0 in labels with no predicted samples.\n",
      "  'precision', 'predicted', average, warn_for)\n"
     ]
    }
   ],
   "source": [
    "y_pred = clf.predict(X_test)\n",
    "print(classification_report(y_test, y_pred,target_names=target_names))"
   ]
  },
  {
   "cell_type": "code",
   "execution_count": null,
   "metadata": {},
   "outputs": [],
   "source": []
  }
 ],
 "metadata": {
  "kernelspec": {
   "display_name": "Python 3",
   "language": "python",
   "name": "python3"
  },
  "language_info": {
   "codemirror_mode": {
    "name": "ipython",
    "version": 3
   },
   "file_extension": ".py",
   "mimetype": "text/x-python",
   "name": "python",
   "nbconvert_exporter": "python",
   "pygments_lexer": "ipython3",
   "version": "3.6.5"
  }
 },
 "nbformat": 4,
 "nbformat_minor": 2
}
