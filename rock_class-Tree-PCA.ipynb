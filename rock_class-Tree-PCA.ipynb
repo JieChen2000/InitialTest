{
 "cells": [
  {
   "cell_type": "code",
   "execution_count": 2,
   "metadata": {},
   "outputs": [
    {
     "ename": "ValueError",
     "evalue": "could not convert string to float: 'CHURCHMAN BIBLE'",
     "output_type": "error",
     "traceback": [
      "\u001b[1;31m---------------------------------------------------------------------------\u001b[0m",
      "\u001b[1;31mValueError\u001b[0m                                Traceback (most recent call last)",
      "\u001b[1;32m<ipython-input-2-5fa288b45705>\u001b[0m in \u001b[0;36m<module>\u001b[1;34m()\u001b[0m\n\u001b[0;32m      8\u001b[0m \u001b[1;32mfrom\u001b[0m \u001b[0msklearn\u001b[0m\u001b[1;33m.\u001b[0m\u001b[0mdecomposition\u001b[0m \u001b[1;32mimport\u001b[0m \u001b[0mPCA\u001b[0m\u001b[1;33m\u001b[0m\u001b[0m\n\u001b[0;32m      9\u001b[0m \u001b[0mpca\u001b[0m \u001b[1;33m=\u001b[0m \u001b[0mPCA\u001b[0m\u001b[1;33m(\u001b[0m\u001b[0mn_components\u001b[0m \u001b[1;33m=\u001b[0m \u001b[1;36m2\u001b[0m\u001b[1;33m)\u001b[0m\u001b[1;33m\u001b[0m\u001b[0m\n\u001b[1;32m---> 10\u001b[1;33m \u001b[0mX2D\u001b[0m \u001b[1;33m=\u001b[0m \u001b[0mpca\u001b[0m\u001b[1;33m.\u001b[0m\u001b[0mfit_transform\u001b[0m\u001b[1;33m(\u001b[0m\u001b[0mdata\u001b[0m\u001b[1;33m)\u001b[0m\u001b[1;33m\u001b[0m\u001b[0m\n\u001b[0m",
      "\u001b[1;32m~\\AppData\\Local\\Continuum\\anaconda3\\lib\\site-packages\\sklearn\\decomposition\\pca.py\u001b[0m in \u001b[0;36mfit_transform\u001b[1;34m(self, X, y)\u001b[0m\n\u001b[0;32m    346\u001b[0m \u001b[1;33m\u001b[0m\u001b[0m\n\u001b[0;32m    347\u001b[0m         \"\"\"\n\u001b[1;32m--> 348\u001b[1;33m         \u001b[0mU\u001b[0m\u001b[1;33m,\u001b[0m \u001b[0mS\u001b[0m\u001b[1;33m,\u001b[0m \u001b[0mV\u001b[0m \u001b[1;33m=\u001b[0m \u001b[0mself\u001b[0m\u001b[1;33m.\u001b[0m\u001b[0m_fit\u001b[0m\u001b[1;33m(\u001b[0m\u001b[0mX\u001b[0m\u001b[1;33m)\u001b[0m\u001b[1;33m\u001b[0m\u001b[0m\n\u001b[0m\u001b[0;32m    349\u001b[0m         \u001b[0mU\u001b[0m \u001b[1;33m=\u001b[0m \u001b[0mU\u001b[0m\u001b[1;33m[\u001b[0m\u001b[1;33m:\u001b[0m\u001b[1;33m,\u001b[0m \u001b[1;33m:\u001b[0m\u001b[0mself\u001b[0m\u001b[1;33m.\u001b[0m\u001b[0mn_components_\u001b[0m\u001b[1;33m]\u001b[0m\u001b[1;33m\u001b[0m\u001b[0m\n\u001b[0;32m    350\u001b[0m \u001b[1;33m\u001b[0m\u001b[0m\n",
      "\u001b[1;32m~\\AppData\\Local\\Continuum\\anaconda3\\lib\\site-packages\\sklearn\\decomposition\\pca.py\u001b[0m in \u001b[0;36m_fit\u001b[1;34m(self, X)\u001b[0m\n\u001b[0;32m    368\u001b[0m \u001b[1;33m\u001b[0m\u001b[0m\n\u001b[0;32m    369\u001b[0m         X = check_array(X, dtype=[np.float64, np.float32], ensure_2d=True,\n\u001b[1;32m--> 370\u001b[1;33m                         copy=self.copy)\n\u001b[0m\u001b[0;32m    371\u001b[0m \u001b[1;33m\u001b[0m\u001b[0m\n\u001b[0;32m    372\u001b[0m         \u001b[1;31m# Handle n_components==None\u001b[0m\u001b[1;33m\u001b[0m\u001b[1;33m\u001b[0m\u001b[0m\n",
      "\u001b[1;32m~\\AppData\\Local\\Continuum\\anaconda3\\lib\\site-packages\\sklearn\\utils\\validation.py\u001b[0m in \u001b[0;36mcheck_array\u001b[1;34m(array, accept_sparse, dtype, order, copy, force_all_finite, ensure_2d, allow_nd, ensure_min_samples, ensure_min_features, warn_on_dtype, estimator)\u001b[0m\n\u001b[0;32m    431\u001b[0m                                       force_all_finite)\n\u001b[0;32m    432\u001b[0m     \u001b[1;32melse\u001b[0m\u001b[1;33m:\u001b[0m\u001b[1;33m\u001b[0m\u001b[0m\n\u001b[1;32m--> 433\u001b[1;33m         \u001b[0marray\u001b[0m \u001b[1;33m=\u001b[0m \u001b[0mnp\u001b[0m\u001b[1;33m.\u001b[0m\u001b[0marray\u001b[0m\u001b[1;33m(\u001b[0m\u001b[0marray\u001b[0m\u001b[1;33m,\u001b[0m \u001b[0mdtype\u001b[0m\u001b[1;33m=\u001b[0m\u001b[0mdtype\u001b[0m\u001b[1;33m,\u001b[0m \u001b[0morder\u001b[0m\u001b[1;33m=\u001b[0m\u001b[0morder\u001b[0m\u001b[1;33m,\u001b[0m \u001b[0mcopy\u001b[0m\u001b[1;33m=\u001b[0m\u001b[0mcopy\u001b[0m\u001b[1;33m)\u001b[0m\u001b[1;33m\u001b[0m\u001b[0m\n\u001b[0m\u001b[0;32m    434\u001b[0m \u001b[1;33m\u001b[0m\u001b[0m\n\u001b[0;32m    435\u001b[0m         \u001b[1;32mif\u001b[0m \u001b[0mensure_2d\u001b[0m\u001b[1;33m:\u001b[0m\u001b[1;33m\u001b[0m\u001b[0m\n",
      "\u001b[1;31mValueError\u001b[0m: could not convert string to float: 'CHURCHMAN BIBLE'"
     ]
    }
   ],
   "source": [
    "import pandas as pd\n",
    "#data = pd.read_csv('training_data_badval.csv')  # just two bad valued data make the F1 scocre from 0.4 to 0.39\n",
    "data = pd.read_csv('training_data.csv')\n",
    "data.drop(['Formation','Well Name','Depth'],axis=1)\n",
    "test_well = data[data['Well Name'] == 'SHANKLE']\n",
    "\n",
    "data = data[data['Well Name'] != 'SHANKLE']   # including Shankle in training data, give F1 0.57 for test well. \n",
    "#data.describe()\n",
    "#data.hist(\"Facies\")\n",
    "\n",
    "from sklearn.decomposition import PCA\n",
    "pca = PCA(n_components = 4)\n",
    "X2D = pca.fit_transform(scaled_features)\n",
    "pca.explained_variance_ratio_"
   ]
  },
  {
   "cell_type": "code",
   "execution_count": 2,
   "metadata": {},
   "outputs": [
    {
     "data": {
      "text/html": [
       "<div>\n",
       "<style scoped>\n",
       "    .dataframe tbody tr th:only-of-type {\n",
       "        vertical-align: middle;\n",
       "    }\n",
       "\n",
       "    .dataframe tbody tr th {\n",
       "        vertical-align: top;\n",
       "    }\n",
       "\n",
       "    .dataframe thead th {\n",
       "        text-align: right;\n",
       "    }\n",
       "</style>\n",
       "<table border=\"1\" class=\"dataframe\">\n",
       "  <thead>\n",
       "    <tr style=\"text-align: right;\">\n",
       "      <th></th>\n",
       "      <th>Facies</th>\n",
       "      <th>Depth</th>\n",
       "      <th>GR</th>\n",
       "      <th>ILD_log10</th>\n",
       "      <th>DeltaPHI</th>\n",
       "      <th>PHIND</th>\n",
       "      <th>PE</th>\n",
       "      <th>NM_M</th>\n",
       "      <th>RELPOS</th>\n",
       "    </tr>\n",
       "  </thead>\n",
       "  <tbody>\n",
       "    <tr>\n",
       "      <th>Facies</th>\n",
       "      <td>6.326478</td>\n",
       "      <td>123.278420</td>\n",
       "      <td>-28.913416</td>\n",
       "      <td>0.222402</td>\n",
       "      <td>-3.564540</td>\n",
       "      <td>-6.590333</td>\n",
       "      <td>1.586454</td>\n",
       "      <td>1.061778</td>\n",
       "      <td>0.047650</td>\n",
       "    </tr>\n",
       "    <tr>\n",
       "      <th>Depth</th>\n",
       "      <td>123.278420</td>\n",
       "      <td>19140.551668</td>\n",
       "      <td>-294.232282</td>\n",
       "      <td>6.243325</td>\n",
       "      <td>-63.137710</td>\n",
       "      <td>-91.802830</td>\n",
       "      <td>38.301025</td>\n",
       "      <td>21.339824</td>\n",
       "      <td>0.483657</td>\n",
       "    </tr>\n",
       "    <tr>\n",
       "      <th>GR</th>\n",
       "      <td>-28.913416</td>\n",
       "      <td>-294.232282</td>\n",
       "      <td>999.245751</td>\n",
       "      <td>-1.321928</td>\n",
       "      <td>34.034381</td>\n",
       "      <td>63.108791</td>\n",
       "      <td>-9.152689</td>\n",
       "      <td>-4.640281</td>\n",
       "      <td>-1.532588</td>\n",
       "    </tr>\n",
       "    <tr>\n",
       "      <th>ILD_log10</th>\n",
       "      <td>0.222402</td>\n",
       "      <td>6.243325</td>\n",
       "      <td>-1.321928</td>\n",
       "      <td>0.058526</td>\n",
       "      <td>-0.170673</td>\n",
       "      <td>-0.942928</td>\n",
       "      <td>0.075355</td>\n",
       "      <td>0.061276</td>\n",
       "      <td>0.007121</td>\n",
       "    </tr>\n",
       "    <tr>\n",
       "      <th>DeltaPHI</th>\n",
       "      <td>-3.564540</td>\n",
       "      <td>-63.137710</td>\n",
       "      <td>34.034381</td>\n",
       "      <td>-0.170673</td>\n",
       "      <td>25.461268</td>\n",
       "      <td>-6.672782</td>\n",
       "      <td>-0.192683</td>\n",
       "      <td>-0.587384</td>\n",
       "      <td>0.027833</td>\n",
       "    </tr>\n",
       "    <tr>\n",
       "      <th>PHIND</th>\n",
       "      <td>-6.590333</td>\n",
       "      <td>-91.802830</td>\n",
       "      <td>63.108791</td>\n",
       "      <td>-0.942928</td>\n",
       "      <td>-6.672782</td>\n",
       "      <td>54.607145</td>\n",
       "      <td>-3.604716</td>\n",
       "      <td>-1.781553</td>\n",
       "      <td>-0.055986</td>\n",
       "    </tr>\n",
       "    <tr>\n",
       "      <th>PE</th>\n",
       "      <td>1.586454</td>\n",
       "      <td>38.301025</td>\n",
       "      <td>-9.152689</td>\n",
       "      <td>0.075355</td>\n",
       "      <td>-0.192683</td>\n",
       "      <td>-3.604716</td>\n",
       "      <td>0.799447</td>\n",
       "      <td>0.288903</td>\n",
       "      <td>0.003619</td>\n",
       "    </tr>\n",
       "    <tr>\n",
       "      <th>NM_M</th>\n",
       "      <td>1.061778</td>\n",
       "      <td>21.339824</td>\n",
       "      <td>-4.640281</td>\n",
       "      <td>0.061276</td>\n",
       "      <td>-0.587384</td>\n",
       "      <td>-1.781553</td>\n",
       "      <td>0.288903</td>\n",
       "      <td>0.249519</td>\n",
       "      <td>0.005684</td>\n",
       "    </tr>\n",
       "    <tr>\n",
       "      <th>RELPOS</th>\n",
       "      <td>0.047650</td>\n",
       "      <td>0.483657</td>\n",
       "      <td>-1.532588</td>\n",
       "      <td>0.007121</td>\n",
       "      <td>0.027833</td>\n",
       "      <td>-0.055986</td>\n",
       "      <td>0.003619</td>\n",
       "      <td>0.005684</td>\n",
       "      <td>0.082656</td>\n",
       "    </tr>\n",
       "  </tbody>\n",
       "</table>\n",
       "</div>"
      ],
      "text/plain": [
       "               Facies         Depth          GR  ILD_log10   DeltaPHI  \\\n",
       "Facies       6.326478    123.278420  -28.913416   0.222402  -3.564540   \n",
       "Depth      123.278420  19140.551668 -294.232282   6.243325 -63.137710   \n",
       "GR         -28.913416   -294.232282  999.245751  -1.321928  34.034381   \n",
       "ILD_log10    0.222402      6.243325   -1.321928   0.058526  -0.170673   \n",
       "DeltaPHI    -3.564540    -63.137710   34.034381  -0.170673  25.461268   \n",
       "PHIND       -6.590333    -91.802830   63.108791  -0.942928  -6.672782   \n",
       "PE           1.586454     38.301025   -9.152689   0.075355  -0.192683   \n",
       "NM_M         1.061778     21.339824   -4.640281   0.061276  -0.587384   \n",
       "RELPOS       0.047650      0.483657   -1.532588   0.007121   0.027833   \n",
       "\n",
       "               PHIND         PE       NM_M    RELPOS  \n",
       "Facies     -6.590333   1.586454   1.061778  0.047650  \n",
       "Depth     -91.802830  38.301025  21.339824  0.483657  \n",
       "GR         63.108791  -9.152689  -4.640281 -1.532588  \n",
       "ILD_log10  -0.942928   0.075355   0.061276  0.007121  \n",
       "DeltaPHI   -6.672782  -0.192683  -0.587384  0.027833  \n",
       "PHIND      54.607145  -3.604716  -1.781553 -0.055986  \n",
       "PE         -3.604716   0.799447   0.288903  0.003619  \n",
       "NM_M       -1.781553   0.288903   0.249519  0.005684  \n",
       "RELPOS     -0.055986   0.003619   0.005684  0.082656  "
      ]
     },
     "execution_count": 2,
     "metadata": {},
     "output_type": "execute_result"
    }
   ],
   "source": [
    "data.cov()"
   ]
  },
  {
   "cell_type": "code",
   "execution_count": 5,
   "metadata": {},
   "outputs": [
    {
     "data": {
      "text/plain": [
       "count    2783.000000\n",
       "mean        4.558390\n",
       "std         2.515249\n",
       "min         1.000000\n",
       "25%         2.000000\n",
       "50%         4.000000\n",
       "75%         7.000000\n",
       "max         9.000000\n",
       "Name: Facies, dtype: float64"
      ]
     },
     "execution_count": 5,
     "metadata": {},
     "output_type": "execute_result"
    }
   ],
   "source": [
    "#features = ['Depth','GR', 'ILD_log10', 'DeltaPHI','PHIND','PE','NM_M', 'RELPOS']  adding depth doesn't improve\n",
    "features = ['GR', 'ILD_log10', 'DeltaPHI','PHIND','PE','NM_M', 'RELPOS']\n",
    "#features = ['ILD_log10', 'DeltaPHI','PHIND','PE','NM_M', 'RELPOS'] #removal of GR make the F1 scocre from 0.4 to 0.38\n",
    "\n",
    "feature_vectors = data[features]\n",
    "facies_labels = data['Facies']\n",
    "facies_labels.describe()"
   ]
  },
  {
   "cell_type": "code",
   "execution_count": 6,
   "metadata": {},
   "outputs": [
    {
     "data": {
      "text/html": [
       "<div>\n",
       "<style scoped>\n",
       "    .dataframe tbody tr th:only-of-type {\n",
       "        vertical-align: middle;\n",
       "    }\n",
       "\n",
       "    .dataframe tbody tr th {\n",
       "        vertical-align: top;\n",
       "    }\n",
       "\n",
       "    .dataframe thead th {\n",
       "        text-align: right;\n",
       "    }\n",
       "</style>\n",
       "<table border=\"1\" class=\"dataframe\">\n",
       "  <thead>\n",
       "    <tr style=\"text-align: right;\">\n",
       "      <th></th>\n",
       "      <th>0</th>\n",
       "      <th>1</th>\n",
       "      <th>2</th>\n",
       "      <th>3</th>\n",
       "      <th>4</th>\n",
       "      <th>5</th>\n",
       "      <th>6</th>\n",
       "    </tr>\n",
       "  </thead>\n",
       "  <tbody>\n",
       "    <tr>\n",
       "      <th>0</th>\n",
       "      <td>1.000359</td>\n",
       "      <td>-0.172923</td>\n",
       "      <td>0.213451</td>\n",
       "      <td>0.270262</td>\n",
       "      <td>-0.323947</td>\n",
       "      <td>-0.293977</td>\n",
       "      <td>-0.168698</td>\n",
       "    </tr>\n",
       "    <tr>\n",
       "      <th>1</th>\n",
       "      <td>-0.172923</td>\n",
       "      <td>1.000359</td>\n",
       "      <td>-0.139864</td>\n",
       "      <td>-0.527637</td>\n",
       "      <td>0.348496</td>\n",
       "      <td>0.507246</td>\n",
       "      <td>0.102414</td>\n",
       "    </tr>\n",
       "    <tr>\n",
       "      <th>2</th>\n",
       "      <td>0.213451</td>\n",
       "      <td>-0.139864</td>\n",
       "      <td>1.000359</td>\n",
       "      <td>-0.179019</td>\n",
       "      <td>-0.042723</td>\n",
       "      <td>-0.233124</td>\n",
       "      <td>0.019193</td>\n",
       "    </tr>\n",
       "    <tr>\n",
       "      <th>3</th>\n",
       "      <td>0.270262</td>\n",
       "      <td>-0.527637</td>\n",
       "      <td>-0.179019</td>\n",
       "      <td>1.000359</td>\n",
       "      <td>-0.545767</td>\n",
       "      <td>-0.482813</td>\n",
       "      <td>-0.026362</td>\n",
       "    </tr>\n",
       "    <tr>\n",
       "      <th>4</th>\n",
       "      <td>-0.323947</td>\n",
       "      <td>0.348496</td>\n",
       "      <td>-0.042723</td>\n",
       "      <td>-0.545767</td>\n",
       "      <td>1.000359</td>\n",
       "      <td>0.647086</td>\n",
       "      <td>0.014085</td>\n",
       "    </tr>\n",
       "    <tr>\n",
       "      <th>5</th>\n",
       "      <td>-0.293977</td>\n",
       "      <td>0.507246</td>\n",
       "      <td>-0.233124</td>\n",
       "      <td>-0.482813</td>\n",
       "      <td>0.647086</td>\n",
       "      <td>1.000359</td>\n",
       "      <td>0.039597</td>\n",
       "    </tr>\n",
       "    <tr>\n",
       "      <th>6</th>\n",
       "      <td>-0.168698</td>\n",
       "      <td>0.102414</td>\n",
       "      <td>0.019193</td>\n",
       "      <td>-0.026362</td>\n",
       "      <td>0.014085</td>\n",
       "      <td>0.039597</td>\n",
       "      <td>1.000359</td>\n",
       "    </tr>\n",
       "  </tbody>\n",
       "</table>\n",
       "</div>"
      ],
      "text/plain": [
       "          0         1         2         3         4         5         6\n",
       "0  1.000359 -0.172923  0.213451  0.270262 -0.323947 -0.293977 -0.168698\n",
       "1 -0.172923  1.000359 -0.139864 -0.527637  0.348496  0.507246  0.102414\n",
       "2  0.213451 -0.139864  1.000359 -0.179019 -0.042723 -0.233124  0.019193\n",
       "3  0.270262 -0.527637 -0.179019  1.000359 -0.545767 -0.482813 -0.026362\n",
       "4 -0.323947  0.348496 -0.042723 -0.545767  1.000359  0.647086  0.014085\n",
       "5 -0.293977  0.507246 -0.233124 -0.482813  0.647086  1.000359  0.039597\n",
       "6 -0.168698  0.102414  0.019193 -0.026362  0.014085  0.039597  1.000359"
      ]
     },
     "execution_count": 6,
     "metadata": {},
     "output_type": "execute_result"
    }
   ],
   "source": [
    "from sklearn.preprocessing import StandardScaler\n",
    "scaler = StandardScaler().fit(feature_vectors)\n",
    "scaled_features = scaler.transform(feature_vectors) #ndarray now. \n",
    "data_s = pd.DataFrame(data=scaled_features)\n",
    "data_s.describe()\n",
    "data_s.cov()\n",
    "#data_s.hist('1')"
   ]
  },
  {
   "cell_type": "code",
   "execution_count": 15,
   "metadata": {},
   "outputs": [
    {
     "data": {
      "text/plain": [
       "array([0.39006   , 0.17100289, 0.14965   , 0.11478091])"
      ]
     },
     "execution_count": 15,
     "metadata": {},
     "output_type": "execute_result"
    }
   ],
   "source": []
  },
  {
   "cell_type": "code",
   "execution_count": 16,
   "metadata": {},
   "outputs": [
    {
     "name": "stderr",
     "output_type": "stream",
     "text": [
      "C:\\Users\\jchen\\AppData\\Local\\Continuum\\anaconda3\\lib\\site-packages\\sklearn\\cross_validation.py:41: DeprecationWarning: This module was deprecated in version 0.18 in favor of the model_selection module into which all the refactored classes and functions are moved. Also note that the interface of the new CV iterators are different from that of this module. This module will be removed in 0.20.\n",
      "  \"This module will be removed in 0.20.\", DeprecationWarning)\n"
     ]
    }
   ],
   "source": [
    "from sklearn.cross_validation import train_test_split\n",
    "#X_train, X_cv, y_train, y_cv = train_test_split(scaled_features, facies_labels,test_size=0.05, random_state=42)\n",
    "#X_train, X_cv, y_train, y_cv = train_test_split(feature_vectors, facies_labels,test_size=0.05, random_state=42) #not scaling input gives same F1 score. \n",
    "X_train, X_cv, y_train, y_cv = train_test_split(X2D, facies_labels,test_size=0.05, random_state=42)\n",
    "\n"
   ]
  },
  {
   "cell_type": "code",
   "execution_count": 17,
   "metadata": {
    "scrolled": true
   },
   "outputs": [],
   "source": [
    "from sklearn.metrics import classification_report\n",
    "target_names = ['SS', 'CSiS', 'FSiS', 'SiSh','MS', 'WS', 'D','PS', 'BS']"
   ]
  },
  {
   "cell_type": "code",
   "execution_count": 18,
   "metadata": {},
   "outputs": [
    {
     "data": {
      "text/plain": [
       "DecisionTreeClassifier(class_weight=None, criterion='gini', max_depth=4,\n",
       "            max_features=None, max_leaf_nodes=None,\n",
       "            min_impurity_decrease=0.0, min_impurity_split=None,\n",
       "            min_samples_leaf=10, min_samples_split=2,\n",
       "            min_weight_fraction_leaf=0.0, presort=False, random_state=None,\n",
       "            splitter='best')"
      ]
     },
     "execution_count": 18,
     "metadata": {},
     "output_type": "execute_result"
    }
   ],
   "source": [
    "from sklearn.tree import DecisionTreeClassifier\n",
    "clf = DecisionTreeClassifier(max_depth=4,min_samples_leaf=10)\n",
    "clf.fit(X_train, y_train)"
   ]
  },
  {
   "cell_type": "code",
   "execution_count": 19,
   "metadata": {},
   "outputs": [
    {
     "name": "stdout",
     "output_type": "stream",
     "text": [
      "             precision    recall  f1-score   support\n",
      "\n",
      "         SS       0.89      0.50      0.64        16\n",
      "       CSiS       0.57      0.83      0.68        29\n",
      "       FSiS       0.31      0.29      0.30        14\n",
      "       SiSh       0.43      0.43      0.43         7\n",
      "         MS       0.00      0.00      0.00        18\n",
      "         WS       0.45      0.87      0.60        23\n",
      "          D       0.00      0.00      0.00         3\n",
      "         PS       0.56      0.39      0.46        23\n",
      "         BS       0.43      0.43      0.43         7\n",
      "\n",
      "avg / total       0.46      0.51      0.46       140\n",
      "\n"
     ]
    },
    {
     "name": "stderr",
     "output_type": "stream",
     "text": [
      "C:\\Users\\jchen\\AppData\\Local\\Continuum\\anaconda3\\lib\\site-packages\\sklearn\\metrics\\classification.py:1135: UndefinedMetricWarning: Precision and F-score are ill-defined and being set to 0.0 in labels with no predicted samples.\n",
      "  'precision', 'predicted', average, warn_for)\n"
     ]
    }
   ],
   "source": [
    "y_cv_pred = clf.predict(X_cv) \n",
    "print(classification_report(y_cv, y_cv_pred,target_names=target_names))"
   ]
  },
  {
   "cell_type": "code",
   "execution_count": 20,
   "metadata": {},
   "outputs": [],
   "source": [
    "y_test = test_well['Facies']"
   ]
  },
  {
   "cell_type": "code",
   "execution_count": 22,
   "metadata": {},
   "outputs": [
    {
     "ename": "ValueError",
     "evalue": "Length of values does not match length of index",
     "output_type": "error",
     "traceback": [
      "\u001b[1;31m---------------------------------------------------------------------------\u001b[0m",
      "\u001b[1;31mValueError\u001b[0m                                Traceback (most recent call last)",
      "\u001b[1;32m<ipython-input-22-e54cc1e46a80>\u001b[0m in \u001b[0;36m<module>\u001b[1;34m()\u001b[0m\n\u001b[0;32m     11\u001b[0m \u001b[1;33m\u001b[0m\u001b[0m\n\u001b[0;32m     12\u001b[0m \u001b[1;31m#y_pred = clf.predict(well_features)\u001b[0m\u001b[1;33m\u001b[0m\u001b[1;33m\u001b[0m\u001b[0m\n\u001b[1;32m---> 13\u001b[1;33m \u001b[0mtest_well\u001b[0m\u001b[1;33m[\u001b[0m\u001b[1;34m'Prediction'\u001b[0m\u001b[1;33m]\u001b[0m \u001b[1;33m=\u001b[0m \u001b[0my_pred\u001b[0m\u001b[1;33m\u001b[0m\u001b[0m\n\u001b[0m",
      "\u001b[1;32m~\\AppData\\Local\\Continuum\\anaconda3\\lib\\site-packages\\pandas\\core\\frame.py\u001b[0m in \u001b[0;36m__setitem__\u001b[1;34m(self, key, value)\u001b[0m\n\u001b[0;32m   3114\u001b[0m         \u001b[1;32melse\u001b[0m\u001b[1;33m:\u001b[0m\u001b[1;33m\u001b[0m\u001b[0m\n\u001b[0;32m   3115\u001b[0m             \u001b[1;31m# set column\u001b[0m\u001b[1;33m\u001b[0m\u001b[1;33m\u001b[0m\u001b[0m\n\u001b[1;32m-> 3116\u001b[1;33m             \u001b[0mself\u001b[0m\u001b[1;33m.\u001b[0m\u001b[0m_set_item\u001b[0m\u001b[1;33m(\u001b[0m\u001b[0mkey\u001b[0m\u001b[1;33m,\u001b[0m \u001b[0mvalue\u001b[0m\u001b[1;33m)\u001b[0m\u001b[1;33m\u001b[0m\u001b[0m\n\u001b[0m\u001b[0;32m   3117\u001b[0m \u001b[1;33m\u001b[0m\u001b[0m\n\u001b[0;32m   3118\u001b[0m     \u001b[1;32mdef\u001b[0m \u001b[0m_setitem_slice\u001b[0m\u001b[1;33m(\u001b[0m\u001b[0mself\u001b[0m\u001b[1;33m,\u001b[0m \u001b[0mkey\u001b[0m\u001b[1;33m,\u001b[0m \u001b[0mvalue\u001b[0m\u001b[1;33m)\u001b[0m\u001b[1;33m:\u001b[0m\u001b[1;33m\u001b[0m\u001b[0m\n",
      "\u001b[1;32m~\\AppData\\Local\\Continuum\\anaconda3\\lib\\site-packages\\pandas\\core\\frame.py\u001b[0m in \u001b[0;36m_set_item\u001b[1;34m(self, key, value)\u001b[0m\n\u001b[0;32m   3189\u001b[0m \u001b[1;33m\u001b[0m\u001b[0m\n\u001b[0;32m   3190\u001b[0m         \u001b[0mself\u001b[0m\u001b[1;33m.\u001b[0m\u001b[0m_ensure_valid_index\u001b[0m\u001b[1;33m(\u001b[0m\u001b[0mvalue\u001b[0m\u001b[1;33m)\u001b[0m\u001b[1;33m\u001b[0m\u001b[0m\n\u001b[1;32m-> 3191\u001b[1;33m         \u001b[0mvalue\u001b[0m \u001b[1;33m=\u001b[0m \u001b[0mself\u001b[0m\u001b[1;33m.\u001b[0m\u001b[0m_sanitize_column\u001b[0m\u001b[1;33m(\u001b[0m\u001b[0mkey\u001b[0m\u001b[1;33m,\u001b[0m \u001b[0mvalue\u001b[0m\u001b[1;33m)\u001b[0m\u001b[1;33m\u001b[0m\u001b[0m\n\u001b[0m\u001b[0;32m   3192\u001b[0m         \u001b[0mNDFrame\u001b[0m\u001b[1;33m.\u001b[0m\u001b[0m_set_item\u001b[0m\u001b[1;33m(\u001b[0m\u001b[0mself\u001b[0m\u001b[1;33m,\u001b[0m \u001b[0mkey\u001b[0m\u001b[1;33m,\u001b[0m \u001b[0mvalue\u001b[0m\u001b[1;33m)\u001b[0m\u001b[1;33m\u001b[0m\u001b[0m\n\u001b[0;32m   3193\u001b[0m \u001b[1;33m\u001b[0m\u001b[0m\n",
      "\u001b[1;32m~\\AppData\\Local\\Continuum\\anaconda3\\lib\\site-packages\\pandas\\core\\frame.py\u001b[0m in \u001b[0;36m_sanitize_column\u001b[1;34m(self, key, value, broadcast)\u001b[0m\n\u001b[0;32m   3386\u001b[0m \u001b[1;33m\u001b[0m\u001b[0m\n\u001b[0;32m   3387\u001b[0m             \u001b[1;31m# turn me into an ndarray\u001b[0m\u001b[1;33m\u001b[0m\u001b[1;33m\u001b[0m\u001b[0m\n\u001b[1;32m-> 3388\u001b[1;33m             \u001b[0mvalue\u001b[0m \u001b[1;33m=\u001b[0m \u001b[0m_sanitize_index\u001b[0m\u001b[1;33m(\u001b[0m\u001b[0mvalue\u001b[0m\u001b[1;33m,\u001b[0m \u001b[0mself\u001b[0m\u001b[1;33m.\u001b[0m\u001b[0mindex\u001b[0m\u001b[1;33m,\u001b[0m \u001b[0mcopy\u001b[0m\u001b[1;33m=\u001b[0m\u001b[1;32mFalse\u001b[0m\u001b[1;33m)\u001b[0m\u001b[1;33m\u001b[0m\u001b[0m\n\u001b[0m\u001b[0;32m   3389\u001b[0m             \u001b[1;32mif\u001b[0m \u001b[1;32mnot\u001b[0m \u001b[0misinstance\u001b[0m\u001b[1;33m(\u001b[0m\u001b[0mvalue\u001b[0m\u001b[1;33m,\u001b[0m \u001b[1;33m(\u001b[0m\u001b[0mnp\u001b[0m\u001b[1;33m.\u001b[0m\u001b[0mndarray\u001b[0m\u001b[1;33m,\u001b[0m \u001b[0mIndex\u001b[0m\u001b[1;33m)\u001b[0m\u001b[1;33m)\u001b[0m\u001b[1;33m:\u001b[0m\u001b[1;33m\u001b[0m\u001b[0m\n\u001b[0;32m   3390\u001b[0m                 \u001b[1;32mif\u001b[0m \u001b[0misinstance\u001b[0m\u001b[1;33m(\u001b[0m\u001b[0mvalue\u001b[0m\u001b[1;33m,\u001b[0m \u001b[0mlist\u001b[0m\u001b[1;33m)\u001b[0m \u001b[1;32mand\u001b[0m \u001b[0mlen\u001b[0m\u001b[1;33m(\u001b[0m\u001b[0mvalue\u001b[0m\u001b[1;33m)\u001b[0m \u001b[1;33m>\u001b[0m \u001b[1;36m0\u001b[0m\u001b[1;33m:\u001b[0m\u001b[1;33m\u001b[0m\u001b[0m\n",
      "\u001b[1;32m~\\AppData\\Local\\Continuum\\anaconda3\\lib\\site-packages\\pandas\\core\\series.py\u001b[0m in \u001b[0;36m_sanitize_index\u001b[1;34m(data, index, copy)\u001b[0m\n\u001b[0;32m   3996\u001b[0m \u001b[1;33m\u001b[0m\u001b[0m\n\u001b[0;32m   3997\u001b[0m     \u001b[1;32mif\u001b[0m \u001b[0mlen\u001b[0m\u001b[1;33m(\u001b[0m\u001b[0mdata\u001b[0m\u001b[1;33m)\u001b[0m \u001b[1;33m!=\u001b[0m \u001b[0mlen\u001b[0m\u001b[1;33m(\u001b[0m\u001b[0mindex\u001b[0m\u001b[1;33m)\u001b[0m\u001b[1;33m:\u001b[0m\u001b[1;33m\u001b[0m\u001b[0m\n\u001b[1;32m-> 3998\u001b[1;33m         \u001b[1;32mraise\u001b[0m \u001b[0mValueError\u001b[0m\u001b[1;33m(\u001b[0m\u001b[1;34m'Length of values does not match length of '\u001b[0m \u001b[1;34m'index'\u001b[0m\u001b[1;33m)\u001b[0m\u001b[1;33m\u001b[0m\u001b[0m\n\u001b[0m\u001b[0;32m   3999\u001b[0m \u001b[1;33m\u001b[0m\u001b[0m\n\u001b[0;32m   4000\u001b[0m     \u001b[1;32mif\u001b[0m \u001b[0misinstance\u001b[0m\u001b[1;33m(\u001b[0m\u001b[0mdata\u001b[0m\u001b[1;33m,\u001b[0m \u001b[0mABCIndexClass\u001b[0m\u001b[1;33m)\u001b[0m \u001b[1;32mand\u001b[0m \u001b[1;32mnot\u001b[0m \u001b[0mcopy\u001b[0m\u001b[1;33m:\u001b[0m\u001b[1;33m\u001b[0m\u001b[0m\n",
      "\u001b[1;31mValueError\u001b[0m: Length of values does not match length of index"
     ]
    }
   ],
   "source": [
    "well_features = test_well.drop(['Facies','Formation','Well Name','Depth'],axis=1)\n",
    "#well_features = test_well.drop(['Facies','Formation','Well Name'],axis=1)\n",
    "#well_features = test_well.drop(['Facies','Formation','Well Name','Depth','GR'],axis=1)\n",
    "\n",
    "X_test = scaler.transform(well_features)\n",
    "#y_pred = clf.predict(X_test)\n",
    "\n",
    "pca_test = PCA(n_components = 4)\n",
    "X2D_test = pca_test.fit_transform(scaled_features)\n",
    "y_pred = clf.predict(X2D_test)\n",
    "\n",
    "#y_pred = clf.predict(well_features)\n",
    "test_well['Prediction'] = y_pred"
   ]
  },
  {
   "cell_type": "code",
   "execution_count": 11,
   "metadata": {},
   "outputs": [
    {
     "name": "stdout",
     "output_type": "stream",
     "text": [
      "             precision    recall  f1-score   support\n",
      "\n",
      "         SS       0.43      0.07      0.12        89\n",
      "       CSiS       0.31      0.81      0.45        89\n",
      "       FSiS       0.82      0.36      0.50       117\n",
      "       SiSh       0.06      0.14      0.09         7\n",
      "         MS       0.00      0.00      0.00        19\n",
      "         WS       0.56      0.80      0.66        71\n",
      "          D       1.00      0.24      0.38        17\n",
      "         PS       0.52      0.40      0.45        40\n",
      "\n",
      "avg / total       0.53      0.44      0.40       449\n",
      "\n"
     ]
    },
    {
     "name": "stderr",
     "output_type": "stream",
     "text": [
      "C:\\Users\\jchen\\AppData\\Local\\Continuum\\anaconda3\\lib\\site-packages\\sklearn\\metrics\\classification.py:1428: UserWarning: labels size, 8, does not match size of target_names, 9\n",
      "  .format(len(labels), len(target_names))\n",
      "C:\\Users\\jchen\\AppData\\Local\\Continuum\\anaconda3\\lib\\site-packages\\sklearn\\metrics\\classification.py:1135: UndefinedMetricWarning: Precision and F-score are ill-defined and being set to 0.0 in labels with no predicted samples.\n",
      "  'precision', 'predicted', average, warn_for)\n"
     ]
    }
   ],
   "source": [
    "\n",
    "print(classification_report(y_test, y_pred,target_names=target_names))"
   ]
  },
  {
   "cell_type": "code",
   "execution_count": null,
   "metadata": {},
   "outputs": [],
   "source": []
  },
  {
   "cell_type": "code",
   "execution_count": null,
   "metadata": {},
   "outputs": [],
   "source": []
  }
 ],
 "metadata": {
  "kernelspec": {
   "display_name": "Python 3",
   "language": "python",
   "name": "python3"
  },
  "language_info": {
   "codemirror_mode": {
    "name": "ipython",
    "version": 3
   },
   "file_extension": ".py",
   "mimetype": "text/x-python",
   "name": "python",
   "nbconvert_exporter": "python",
   "pygments_lexer": "ipython3",
   "version": "3.6.5"
  }
 },
 "nbformat": 4,
 "nbformat_minor": 2
}
