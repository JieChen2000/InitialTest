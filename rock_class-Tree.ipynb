{
 "cells": [
  {
   "cell_type": "code",
   "execution_count": 1,
   "metadata": {},
   "outputs": [],
   "source": [
    "import pandas as pd\n",
    "data = pd.read_csv('training_data.csv')\n",
    "data.describe()\n",
    "test_well = data[data['Well Name'] == 'SHANKLE']\n",
    "data = data[data['Well Name'] != 'SHANKLE']"
   ]
  },
  {
   "cell_type": "code",
   "execution_count": 2,
   "metadata": {},
   "outputs": [
    {
     "data": {
      "text/plain": [
       "count    2783.000000\n",
       "mean        4.558390\n",
       "std         2.515249\n",
       "min         1.000000\n",
       "25%         2.000000\n",
       "50%         4.000000\n",
       "75%         7.000000\n",
       "max         9.000000\n",
       "Name: Facies, dtype: float64"
      ]
     },
     "execution_count": 2,
     "metadata": {},
     "output_type": "execute_result"
    }
   ],
   "source": [
    "features = ['GR', 'ILD_log10', 'DeltaPHI','PHIND','PE','NM_M', 'RELPOS']\n",
    "feature_vectors = data[features]\n",
    "facies_labels = data['Facies']\n",
    "facies_labels.describe()"
   ]
  },
  {
   "cell_type": "code",
   "execution_count": 3,
   "metadata": {},
   "outputs": [],
   "source": [
    "from sklearn.preprocessing import StandardScaler\n",
    "scaler = StandardScaler().fit(feature_vectors)\n",
    "scaled_features = scaler.transform(feature_vectors) #ndarray now. "
   ]
  },
  {
   "cell_type": "code",
   "execution_count": 4,
   "metadata": {},
   "outputs": [
    {
     "name": "stderr",
     "output_type": "stream",
     "text": [
      "C:\\Users\\jchen\\AppData\\Local\\Continuum\\anaconda3\\lib\\site-packages\\sklearn\\cross_validation.py:41: DeprecationWarning: This module was deprecated in version 0.18 in favor of the model_selection module into which all the refactored classes and functions are moved. Also note that the interface of the new CV iterators are different from that of this module. This module will be removed in 0.20.\n",
      "  \"This module will be removed in 0.20.\", DeprecationWarning)\n"
     ]
    },
    {
     "data": {
      "text/plain": [
       "array([[-0.87705417,  0.33637903, -0.18928865, ...,  1.44783881,\n",
       "         0.95329909, -1.63528358],\n",
       "       [-0.19279901,  0.32811041, -0.25469982, ...,  0.61894043,\n",
       "         0.95329909,  1.12000618],\n",
       "       [ 0.64782298, -1.20352041,  0.12785645, ..., -0.88896106,\n",
       "        -1.04898873, -1.26304115],\n",
       "       ...,\n",
       "       [ 0.2221964 ,  0.04857211,  0.98018391, ..., -0.74689616,\n",
       "        -1.04898873,  0.94954002],\n",
       "       [ 0.53236719, -0.39031519, -0.20911021, ..., -0.96726455,\n",
       "        -1.04898873,  0.72341145],\n",
       "       [ 0.34268302, -0.51115421,  1.13875646, ..., -0.78940377,\n",
       "        -1.04898873, -1.33261918]])"
      ]
     },
     "execution_count": 4,
     "metadata": {},
     "output_type": "execute_result"
    }
   ],
   "source": [
    "from sklearn.cross_validation import train_test_split\n",
    "X_train, X_cv, y_train, y_cv = train_test_split(scaled_features, facies_labels,test_size=0.05, random_state=42)\n",
    "X_train"
   ]
  },
  {
   "cell_type": "code",
   "execution_count": 5,
   "metadata": {
    "scrolled": true
   },
   "outputs": [],
   "source": [
    "from sklearn.metrics import classification_report\n",
    "target_names = ['SS', 'CSiS', 'FSiS', 'SiSh','MS', 'WS', 'D','PS', 'BS']"
   ]
  },
  {
   "cell_type": "code",
   "execution_count": 6,
   "metadata": {},
   "outputs": [
    {
     "data": {
      "text/plain": [
       "DecisionTreeClassifier(class_weight=None, criterion='gini', max_depth=4,\n",
       "            max_features=None, max_leaf_nodes=None,\n",
       "            min_impurity_decrease=0.0, min_impurity_split=None,\n",
       "            min_samples_leaf=10, min_samples_split=2,\n",
       "            min_weight_fraction_leaf=0.0, presort=False, random_state=None,\n",
       "            splitter='best')"
      ]
     },
     "execution_count": 6,
     "metadata": {},
     "output_type": "execute_result"
    }
   ],
   "source": [
    "from sklearn.tree import DecisionTreeClassifier\n",
    "clf = DecisionTreeClassifier(max_depth=4,min_samples_leaf=10)\n",
    "clf.fit(X_train, y_train)"
   ]
  },
  {
   "cell_type": "code",
   "execution_count": 7,
   "metadata": {},
   "outputs": [
    {
     "name": "stdout",
     "output_type": "stream",
     "text": [
      "             precision    recall  f1-score   support\n",
      "\n",
      "         SS       1.00      0.50      0.67        16\n",
      "       CSiS       0.61      0.86      0.71        29\n",
      "       FSiS       0.55      0.43      0.48        14\n",
      "       SiSh       0.25      0.29      0.27         7\n",
      "         MS       0.00      0.00      0.00        18\n",
      "         WS       0.44      0.83      0.58        23\n",
      "          D       0.00      0.00      0.00         3\n",
      "         PS       0.62      0.57      0.59        23\n",
      "         BS       0.50      0.57      0.53         7\n",
      "\n",
      "avg / total       0.51      0.55      0.50       140\n",
      "\n"
     ]
    },
    {
     "name": "stderr",
     "output_type": "stream",
     "text": [
      "C:\\Users\\jchen\\AppData\\Local\\Continuum\\anaconda3\\lib\\site-packages\\sklearn\\metrics\\classification.py:1135: UndefinedMetricWarning: Precision and F-score are ill-defined and being set to 0.0 in labels with no predicted samples.\n",
      "  'precision', 'predicted', average, warn_for)\n"
     ]
    }
   ],
   "source": [
    "y_cv_pred = clf.predict(X_cv) \n",
    "print(classification_report(y_cv, y_cv_pred,target_names=target_names))"
   ]
  },
  {
   "cell_type": "code",
   "execution_count": 8,
   "metadata": {},
   "outputs": [],
   "source": [
    "y_test = test_well['Facies']"
   ]
  },
  {
   "cell_type": "code",
   "execution_count": 9,
   "metadata": {},
   "outputs": [],
   "source": [
    "well_features = test_well.drop(['Facies','Formation','Well Name','Depth'],axis=1)\n",
    "X_test = scaler.transform(well_features)\n",
    "y_pred = clf.predict(X_test)\n",
    "test_well['Prediction'] = y_pred"
   ]
  },
  {
   "cell_type": "code",
   "execution_count": 10,
   "metadata": {},
   "outputs": [
    {
     "name": "stdout",
     "output_type": "stream",
     "text": [
      "             precision    recall  f1-score   support\n",
      "\n",
      "         SS       0.43      0.07      0.12        89\n",
      "       CSiS       0.31      0.81      0.45        89\n",
      "       FSiS       0.82      0.36      0.50       117\n",
      "       SiSh       0.06      0.14      0.09         7\n",
      "         MS       0.00      0.00      0.00        19\n",
      "         WS       0.56      0.80      0.66        71\n",
      "          D       1.00      0.24      0.38        17\n",
      "         PS       0.52      0.40      0.45        40\n",
      "\n",
      "avg / total       0.53      0.44      0.40       449\n",
      "\n"
     ]
    },
    {
     "name": "stderr",
     "output_type": "stream",
     "text": [
      "C:\\Users\\jchen\\AppData\\Local\\Continuum\\anaconda3\\lib\\site-packages\\sklearn\\metrics\\classification.py:1428: UserWarning: labels size, 8, does not match size of target_names, 9\n",
      "  .format(len(labels), len(target_names))\n",
      "C:\\Users\\jchen\\AppData\\Local\\Continuum\\anaconda3\\lib\\site-packages\\sklearn\\metrics\\classification.py:1135: UndefinedMetricWarning: Precision and F-score are ill-defined and being set to 0.0 in labels with no predicted samples.\n",
      "  'precision', 'predicted', average, warn_for)\n"
     ]
    }
   ],
   "source": [
    "\n",
    "print(classification_report(y_test, y_pred,target_names=target_names))"
   ]
  },
  {
   "cell_type": "code",
   "execution_count": null,
   "metadata": {},
   "outputs": [],
   "source": []
  }
 ],
 "metadata": {
  "kernelspec": {
   "display_name": "Python 3",
   "language": "python",
   "name": "python3"
  },
  "language_info": {
   "codemirror_mode": {
    "name": "ipython",
    "version": 3
   },
   "file_extension": ".py",
   "mimetype": "text/x-python",
   "name": "python",
   "nbconvert_exporter": "python",
   "pygments_lexer": "ipython3",
   "version": "3.6.5"
  }
 },
 "nbformat": 4,
 "nbformat_minor": 2
}
