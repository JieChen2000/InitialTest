{
 "cells": [
  {
   "cell_type": "code",
   "execution_count": 1,
   "metadata": {},
   "outputs": [
    {
     "data": {
      "text/plain": [
       "Int64Index([   0,    1,    2,    3,    4,    5,    6,    7,    8,    9,\n",
       "            ...\n",
       "            3222, 3223, 3224, 3225, 3226, 3227, 3228, 3229, 3230, 3231],\n",
       "           dtype='int64', length=2783)"
      ]
     },
     "execution_count": 1,
     "metadata": {},
     "output_type": "execute_result"
    }
   ],
   "source": [
    "import pandas as pd\n",
    "import numpy as np \n",
    "data = pd.read_csv('training_data.csv')  ##use this data cv F1 0.50  \n",
    "#data = pd.read_csv('facies_vectors.csv')  ##use this data(two more wells) cv F1 0.48 \n",
    "#data.describe()\n",
    "data_test = data[data['Well Name'] == 'SHANKLE']\n",
    "data = data[data['Well Name'] != 'SHANKLE']\n",
    "#data2 = data.sample(n=729)\n",
    "#data2.describe()   # use random sampled 729 events gives \n",
    "#F1 scroe 0.51 for CV(nonstratified split), 0.36 for Test \n",
    "#F1 scroe 0.55 for CV(stratified split), 0.41 for Test \n",
    "\n",
    "#data['BoundaryFlag'] = pd.Series(0,index=data.index)  # add one column. \n",
    "#previousface=-1\n",
    "#for index, row in data.iterrows():\n",
    "#    if row['Facies']!=previousface: \n",
    "#        data.at[index, 'BoundaryFlag'] =  1   \n",
    "#        data.at[index-1, 'BoundaryFlag'] =  1    \n",
    "#        data.set_value(index, 'BoundaryFlag',1) ##old version\n",
    "#        previousface = row['Facies']\n",
    "#data = data[data['BoundaryFlag']==0]\n",
    "#data= data.drop(['BoundaryFlag'],axis=1)\n",
    "#data.describe\n",
    "#w/o boundary in data, F1 score 0.61 for CV and 0.43 for Test \n",
    "#w boundary in data, F1 score 0.50 for CV and 0.55 for Test\n",
    "data.index"
   ]
  },
  {
   "cell_type": "code",
   "execution_count": 2,
   "metadata": {},
   "outputs": [],
   "source": [
    "features = ['GR', 'ILD_log10', 'DeltaPHI','PHIND','PE','NM_M', 'RELPOS']\n",
    "feature_vectors = data[features]\n",
    "facies_labels = data['Facies']\n",
    "\n",
    "feature_vectors_test = data_test[features]\n",
    "facies_labels_test = data_test['Facies']\n",
    "\n",
    "facies_labels.describe()\n",
    "# Store well labels and depths\n",
    "well = data['Well Name'].values\n",
    "depth = data['Depth'].values\n",
    "well_test = data_test['Well Name'].values\n",
    "depth_test = data_test['Depth'].values\n",
    "# Fill 'PE' missing values with mean\n",
    "from sklearn import preprocessing\n",
    "imp = preprocessing.Imputer(missing_values='NaN', strategy='mean', axis=0)\n",
    "imp.fit(feature_vectors)\n",
    "feature_vectors = imp.transform(feature_vectors)\n",
    "imp.fit(feature_vectors_test)\n",
    "feature_vectors_test = imp.transform(feature_vectors_test)\n"
   ]
  },
  {
   "cell_type": "code",
   "execution_count": null,
   "metadata": {},
   "outputs": [],
   "source": []
  },
  {
   "cell_type": "code",
   "execution_count": null,
   "metadata": {},
   "outputs": [],
   "source": []
  },
  {
   "cell_type": "code",
   "execution_count": 3,
   "metadata": {},
   "outputs": [
    {
     "data": {
      "text/plain": [
       "(2783, 7)"
      ]
     },
     "execution_count": 3,
     "metadata": {},
     "output_type": "execute_result"
    }
   ],
   "source": [
    "from sklearn.preprocessing import StandardScaler\n",
    "scaler = StandardScaler().fit(feature_vectors)\n",
    "scaled_features = scaler.transform(feature_vectors) #ndarray now. \n",
    "scaler_test = StandardScaler().fit(feature_vectors_test)\n",
    "scaled_features_test = scaler.transform(feature_vectors_test) #ndarray now. \n",
    "#scaled_features.shape\n",
    "#scaler = StandardScaler().fit(feature_vectors)\n",
    "#scaled_features = scaler.transform(feature_vectors) #ndarray now. \n",
    "\n",
    "#df3 = pd.DataFrame(np.random.randn(10, 5),columns=['a', 'b', 'c', 'd', 'e'])\n",
    "#df3.describe\n",
    "scaled_features.shape"
   ]
  },
  {
   "cell_type": "code",
   "execution_count": null,
   "metadata": {},
   "outputs": [],
   "source": []
  },
  {
   "cell_type": "code",
   "execution_count": 4,
   "metadata": {},
   "outputs": [
    {
     "data": {
      "text/plain": [
       "(2643, 7)"
      ]
     },
     "execution_count": 4,
     "metadata": {},
     "output_type": "execute_result"
    }
   ],
   "source": [
    "from sklearn.model_selection import train_test_split\n",
    "X_train, X_cv, y_train, y_cv = train_test_split(scaled_features, facies_labels,test_size=0.05, random_state=42,stratify=facies_labels)\n",
    "#X_train, X_cv, y_train, y_cv = train_test_split(scaled_features, facies_labels,test_size=0.05, random_state=42)\n",
    "#y_train.value_counts()\n",
    "X_train.shape"
   ]
  },
  {
   "cell_type": "code",
   "execution_count": 5,
   "metadata": {
    "scrolled": true
   },
   "outputs": [],
   "source": [
    "from sklearn.metrics import classification_report\n",
    "target_names = ['SS', 'CSiS', 'FSiS', 'SiSh','MS', 'WS', 'D','PS', 'BS']"
   ]
  },
  {
   "cell_type": "code",
   "execution_count": 11,
   "metadata": {},
   "outputs": [
    {
     "data": {
      "text/plain": [
       "XGBClassifier(base_score=0.5, booster='gbtree', colsample_bylevel=1,\n",
       "       colsample_bytree=0.9, gamma=0, learning_rate=0.12, max_delta_step=0,\n",
       "       max_depth=3, min_child_weight=10, missing=None, n_estimators=150,\n",
       "       n_jobs=1, nthread=None, objective='multi:softprob', random_state=0,\n",
       "       reg_alpha=0, reg_lambda=1, scale_pos_weight=1, seed=100,\n",
       "       silent=True, subsample=1)"
      ]
     },
     "execution_count": 11,
     "metadata": {},
     "output_type": "execute_result"
    }
   ],
   "source": [
    "#from sklearn.neural_network import MLPClassifier\n",
    "from xgboost.sklearn import  XGBClassifier\n",
    "clf = XGBClassifier(learning_rate=0.12,max_depth=3,min_child_weight=10,n_estimators=150,seed=100,colsample_bytree=0.9)\n",
    "clf.fit(X_train, y_train)"
   ]
  },
  {
   "cell_type": "code",
   "execution_count": 12,
   "metadata": {},
   "outputs": [
    {
     "name": "stdout",
     "output_type": "stream",
     "text": [
      "             precision    recall  f1-score   support\n",
      "\n",
      "         SS       0.83      0.62      0.71         8\n",
      "       CSiS       0.70      0.70      0.70        33\n",
      "       FSiS       0.63      0.76      0.69        25\n",
      "       SiSh       0.75      0.33      0.46         9\n",
      "         MS       0.62      0.50      0.56        10\n",
      "         WS       0.65      0.55      0.59        20\n",
      "          D       1.00      0.75      0.86         4\n",
      "         PS       0.56      0.78      0.65        23\n",
      "         BS       0.86      0.75      0.80         8\n",
      "\n",
      "avg / total       0.68      0.66      0.66       140\n",
      "\n"
     ]
    },
    {
     "name": "stderr",
     "output_type": "stream",
     "text": [
      "C:\\Users\\Homeuser\\Anaconda3\\lib\\site-packages\\sklearn\\preprocessing\\label.py:151: DeprecationWarning: The truth value of an empty array is ambiguous. Returning False, but in future this will result in an error. Use `array.size > 0` to check that an array is not empty.\n",
      "  if diff:\n"
     ]
    }
   ],
   "source": [
    "y_cv_pred = clf.predict(X_cv) \n",
    "print(classification_report(y_cv, y_cv_pred,target_names=target_names))"
   ]
  },
  {
   "cell_type": "code",
   "execution_count": null,
   "metadata": {},
   "outputs": [],
   "source": []
  },
  {
   "cell_type": "code",
   "execution_count": 9,
   "metadata": {},
   "outputs": [
    {
     "name": "stderr",
     "output_type": "stream",
     "text": [
      "C:\\Users\\Homeuser\\Anaconda3\\lib\\site-packages\\sklearn\\preprocessing\\label.py:151: DeprecationWarning: The truth value of an empty array is ambiguous. Returning False, but in future this will result in an error. Use `array.size > 0` to check that an array is not empty.\n",
      "  if diff:\n"
     ]
    }
   ],
   "source": [
    "y_pred = clf.predict(scaled_features_test)"
   ]
  },
  {
   "cell_type": "code",
   "execution_count": 10,
   "metadata": {},
   "outputs": [
    {
     "name": "stdout",
     "output_type": "stream",
     "text": [
      "             precision    recall  f1-score   support\n",
      "\n",
      "         SS       0.60      0.13      0.22        89\n",
      "       CSiS       0.37      0.82      0.51        89\n",
      "       FSiS       0.86      0.57      0.69       117\n",
      "       SiSh       0.11      0.29      0.15         7\n",
      "         MS       0.15      0.11      0.12        19\n",
      "         WS       0.63      0.63      0.63        71\n",
      "          D       0.73      0.65      0.69        17\n",
      "         PS       0.63      0.55      0.59        40\n",
      "\n",
      "avg / total       0.61      0.52      0.51       449\n",
      "\n"
     ]
    },
    {
     "name": "stderr",
     "output_type": "stream",
     "text": [
      "C:\\Users\\Homeuser\\Anaconda3\\lib\\site-packages\\sklearn\\metrics\\classification.py:1428: UserWarning: labels size, 8, does not match size of target_names, 9\n",
      "  .format(len(labels), len(target_names))\n"
     ]
    }
   ],
   "source": [
    "\n",
    "print(classification_report(facies_labels_test, y_pred,target_names=target_names))"
   ]
  },
  {
   "cell_type": "code",
   "execution_count": null,
   "metadata": {},
   "outputs": [],
   "source": []
  }
 ],
 "metadata": {
  "kernelspec": {
   "display_name": "Python 3",
   "language": "python",
   "name": "python3"
  },
  "language_info": {
   "codemirror_mode": {
    "name": "ipython",
    "version": 3
   },
   "file_extension": ".py",
   "mimetype": "text/x-python",
   "name": "python",
   "nbconvert_exporter": "python",
   "pygments_lexer": "ipython3",
   "version": "3.6.4"
  }
 },
 "nbformat": 4,
 "nbformat_minor": 2
}
