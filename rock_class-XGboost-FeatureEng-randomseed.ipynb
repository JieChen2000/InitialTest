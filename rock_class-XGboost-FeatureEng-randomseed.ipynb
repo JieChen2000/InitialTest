{
 "cells": [
  {
   "cell_type": "code",
   "execution_count": 1,
   "metadata": {},
   "outputs": [
    {
     "data": {
      "text/plain": [
       "Int64Index([   0,    1,    2,    3,    4,    5,    6,    7,    8,    9,\n",
       "            ...\n",
       "            3222, 3223, 3224, 3225, 3226, 3227, 3228, 3229, 3230, 3231],\n",
       "           dtype='int64', length=2783)"
      ]
     },
     "execution_count": 1,
     "metadata": {},
     "output_type": "execute_result"
    }
   ],
   "source": [
    "import pandas as pd\n",
    "import numpy as np \n",
    "data = pd.read_csv('training_data.csv')  ##use this data cv F1 0.50  \n",
    "#data = pd.read_csv('facies_vectors.csv')  ##use this data(two more wells) cv F1 0.48 \n",
    "#data.describe()\n",
    "data_test = data[data['Well Name'] == 'SHANKLE']\n",
    "data = data[data['Well Name'] != 'SHANKLE']\n",
    "#data2 = data.sample(n=729)\n",
    "#data2.describe()   # use random sampled 729 events gives \n",
    "#F1 scroe 0.51 for CV(nonstratified split), 0.36 for Test \n",
    "#F1 scroe 0.55 for CV(stratified split), 0.41 for Test \n",
    "\n",
    "#data['BoundaryFlag'] = pd.Series(0,index=data.index)  # add one column. \n",
    "#previousface=-1\n",
    "#for index, row in data.iterrows():\n",
    "#    if row['Facies']!=previousface: \n",
    "#        data.at[index, 'BoundaryFlag'] =  1   \n",
    "#        data.at[index-1, 'BoundaryFlag'] =  1    \n",
    "#        data.set_value(index, 'BoundaryFlag',1) ##old version\n",
    "#        previousface = row['Facies']\n",
    "#data = data[data['BoundaryFlag']==0]\n",
    "#data= data.drop(['BoundaryFlag'],axis=1)\n",
    "#data.describe\n",
    "#w/o boundary in data, F1 score 0.61 for CV and 0.43 for Test \n",
    "#w boundary in data, F1 score 0.50 for CV and 0.55 for Test\n",
    "data.index"
   ]
  },
  {
   "cell_type": "code",
   "execution_count": 2,
   "metadata": {},
   "outputs": [],
   "source": [
    "features = ['GR', 'ILD_log10', 'DeltaPHI','PHIND','PE','NM_M', 'RELPOS']\n",
    "feature_vectors = data[features]\n",
    "facies_labels = data['Facies']\n",
    "\n",
    "feature_vectors_test = data_test[features]\n",
    "facies_labels_test = data_test['Facies']\n",
    "\n",
    "facies_labels.describe()\n",
    "# Store well labels and depths\n",
    "well = data['Well Name'].values\n",
    "depth = data['Depth'].values\n",
    "well_test = data_test['Well Name'].values\n",
    "depth_test = data_test['Depth'].values\n",
    "# Fill 'PE' missing values with mean\n",
    "from sklearn import preprocessing\n",
    "imp = preprocessing.Imputer(missing_values='NaN', strategy='mean', axis=0)\n",
    "imp.fit(feature_vectors)\n",
    "feature_vectors = imp.transform(feature_vectors)\n",
    "imp.fit(feature_vectors_test)\n",
    "feature_vectors_test = imp.transform(feature_vectors_test)\n"
   ]
  },
  {
   "cell_type": "code",
   "execution_count": null,
   "metadata": {},
   "outputs": [],
   "source": []
  },
  {
   "cell_type": "code",
   "execution_count": 3,
   "metadata": {},
   "outputs": [],
   "source": [
    "\n",
    "\n",
    "\n",
    "# Feature windows concatenation function\n",
    "def augment_features_window(X, N_neig):\n",
    "    \n",
    "    # Parameters\n",
    "    N_row = X.shape[0]\n",
    "    N_feat = X.shape[1]\n",
    "\n",
    "    # Zero padding\n",
    "    X = np.vstack((np.zeros((N_neig, N_feat)), X, (np.zeros((N_neig, N_feat)))))\n",
    "\n",
    "    # Loop over windows\n",
    "    X_aug = np.zeros((N_row, N_feat*(2*N_neig+1)))\n",
    "    for r in np.arange(N_row)+N_neig:\n",
    "        this_row = []\n",
    "        for c in np.arange(-N_neig,N_neig+1):\n",
    "            this_row = np.hstack((this_row, X[r+c]))\n",
    "        X_aug[r-N_neig] = this_row\n",
    "\n",
    "    return X_aug\n",
    "\n",
    "\n",
    "# Feature gradient computation function\n",
    "def augment_features_gradient(X, depth):\n",
    "    \n",
    "    # Compute features gradient\n",
    "    d_diff = np.diff(depth).reshape((-1, 1))\n",
    "    d_diff[d_diff==0] = 0.001\n",
    "    X_diff = np.diff(X, axis=0)\n",
    "    X_grad = X_diff / d_diff\n",
    "        \n",
    "    # Compensate for last missing value\n",
    "    X_grad = np.concatenate((X_grad, np.zeros((1, X_grad.shape[1]))))\n",
    "    \n",
    "    return X_grad\n",
    "\n",
    "\n",
    "# Feature augmentation function\n",
    "def augment_features(X, well, depth, N_neig=1):\n",
    "    \n",
    "    # Augment features\n",
    "    X_aug = np.zeros((X.shape[0], X.shape[1]*(N_neig*2+2)))\n",
    "    for w in np.unique(well):\n",
    "        w_idx = np.where(well == w)[0]\n",
    "        X_aug_win = augment_features_window(X[w_idx, :], N_neig)\n",
    "        X_aug_grad = augment_features_gradient(X[w_idx, :], depth[w_idx])\n",
    "        X_aug[w_idx, :] = np.concatenate((X_aug_win, X_aug_grad), axis=1)\n",
    "    \n",
    "    # Find padded rows\n",
    "    padded_rows = np.unique(np.where(X_aug[:, 0:7] == np.zeros((1, 7)))[0])\n",
    "    \n",
    "    return X_aug, padded_rows"
   ]
  },
  {
   "cell_type": "code",
   "execution_count": 4,
   "metadata": {},
   "outputs": [
    {
     "data": {
      "text/plain": [
       "(2783, 28)"
      ]
     },
     "execution_count": 4,
     "metadata": {},
     "output_type": "execute_result"
    }
   ],
   "source": [
    "X_aug, padded_rows = augment_features(feature_vectors, well, depth)\n",
    "X_aug_test, padded_rows_test = augment_features(feature_vectors_test, well_test, depth_test)\n",
    "\n",
    "X_aug.shape"
   ]
  },
  {
   "cell_type": "code",
   "execution_count": 5,
   "metadata": {},
   "outputs": [
    {
     "data": {
      "text/plain": [
       "(2783, 28)"
      ]
     },
     "execution_count": 5,
     "metadata": {},
     "output_type": "execute_result"
    }
   ],
   "source": [
    "from sklearn.preprocessing import StandardScaler\n",
    "scaler = StandardScaler().fit(X_aug)\n",
    "#from sklearn import preprocessing\n",
    "#scaler = preprocessing.RobustScaler(quantile_range=(25.0, 75.0)).fit(X_aug)\n",
    "scaled_features = scaler.transform(X_aug) #ndarray now. \n",
    "scaler_test = StandardScaler().fit(X_aug_test)\n",
    "#scaler_test = preprocessing.RobustScaler(quantile_range=(25.0, 75.0)).fit(X_aug_test)\n",
    "scaled_features_test = scaler.transform(X_aug_test) #ndarray now. \n",
    "#scaled_features.shape\n",
    "#scaler = StandardScaler().fit(feature_vectors)\n",
    "#scaled_features = scaler.transform(feature_vectors) #ndarray now. \n",
    "\n",
    "#df3 = pd.DataFrame(np.random.randn(10, 5),columns=['a', 'b', 'c', 'd', 'e'])\n",
    "#df3.describe\n",
    "scaled_features.shape"
   ]
  },
  {
   "cell_type": "code",
   "execution_count": null,
   "metadata": {},
   "outputs": [],
   "source": []
  },
  {
   "cell_type": "code",
   "execution_count": 6,
   "metadata": {},
   "outputs": [
    {
     "data": {
      "text/plain": [
       "(2643, 28)"
      ]
     },
     "execution_count": 6,
     "metadata": {},
     "output_type": "execute_result"
    }
   ],
   "source": [
    "from sklearn.model_selection import train_test_split\n",
    "X_train, X_cv, y_train, y_cv = train_test_split(scaled_features, facies_labels,test_size=0.05, random_state=42,stratify=facies_labels)\n",
    "#X_train, X_cv, y_train, y_cv = train_test_split(scaled_features, facies_labels,test_size=0.05, random_state=42)\n",
    "#y_train.value_counts()\n",
    "X_train.shape"
   ]
  },
  {
   "cell_type": "code",
   "execution_count": 7,
   "metadata": {
    "scrolled": true
   },
   "outputs": [],
   "source": [
    "from sklearn.metrics import classification_report\n",
    "target_names = ['SS', 'CSiS', 'FSiS', 'SiSh','MS', 'WS', 'D','PS', 'BS']"
   ]
  },
  {
   "cell_type": "code",
   "execution_count": 8,
   "metadata": {},
   "outputs": [
    {
     "name": "stderr",
     "output_type": "stream",
     "text": [
      "C:\\Users\\Homeuser\\Anaconda3\\lib\\site-packages\\sklearn\\preprocessing\\label.py:151: DeprecationWarning: The truth value of an empty array is ambiguous. Returning False, but in future this will result in an error. Use `array.size > 0` to check that an array is not empty.\n",
      "  if diff:\n",
      "C:\\Users\\Homeuser\\Anaconda3\\lib\\site-packages\\sklearn\\metrics\\classification.py:1428: UserWarning: labels size, 8, does not match size of target_names, 9\n",
      "  .format(len(labels), len(target_names))\n"
     ]
    },
    {
     "name": "stdout",
     "output_type": "stream",
     "text": [
      "random seed =  0\n",
      "             precision    recall  f1-score   support\n",
      "\n",
      "         SS       0.78      0.39      0.52        89\n",
      "       CSiS       0.41      0.81      0.55        89\n",
      "       FSiS       0.82      0.54      0.65       117\n",
      "       SiSh       0.15      0.43      0.22         7\n",
      "         MS       0.00      0.00      0.00        19\n",
      "         WS       0.75      0.76      0.76        71\n",
      "          D       1.00      0.53      0.69        17\n",
      "         PS       0.72      0.82      0.77        40\n",
      "\n",
      "avg / total       0.67      0.60      0.60       449\n",
      "\n"
     ]
    },
    {
     "name": "stderr",
     "output_type": "stream",
     "text": [
      "C:\\Users\\Homeuser\\Anaconda3\\lib\\site-packages\\sklearn\\preprocessing\\label.py:151: DeprecationWarning: The truth value of an empty array is ambiguous. Returning False, but in future this will result in an error. Use `array.size > 0` to check that an array is not empty.\n",
      "  if diff:\n",
      "C:\\Users\\Homeuser\\Anaconda3\\lib\\site-packages\\sklearn\\metrics\\classification.py:1428: UserWarning: labels size, 8, does not match size of target_names, 9\n",
      "  .format(len(labels), len(target_names))\n"
     ]
    },
    {
     "name": "stdout",
     "output_type": "stream",
     "text": [
      "random seed =  10\n",
      "             precision    recall  f1-score   support\n",
      "\n",
      "         SS       0.73      0.39      0.51        89\n",
      "       CSiS       0.41      0.81      0.55        89\n",
      "       FSiS       0.84      0.52      0.64       117\n",
      "       SiSh       0.11      0.29      0.15         7\n",
      "         MS       0.00      0.00      0.00        19\n",
      "         WS       0.70      0.73      0.72        71\n",
      "          D       1.00      0.65      0.79        17\n",
      "         PS       0.64      0.70      0.67        40\n",
      "\n",
      "avg / total       0.65      0.58      0.58       449\n",
      "\n"
     ]
    },
    {
     "name": "stderr",
     "output_type": "stream",
     "text": [
      "C:\\Users\\Homeuser\\Anaconda3\\lib\\site-packages\\sklearn\\preprocessing\\label.py:151: DeprecationWarning: The truth value of an empty array is ambiguous. Returning False, but in future this will result in an error. Use `array.size > 0` to check that an array is not empty.\n",
      "  if diff:\n",
      "C:\\Users\\Homeuser\\Anaconda3\\lib\\site-packages\\sklearn\\metrics\\classification.py:1428: UserWarning: labels size, 8, does not match size of target_names, 9\n",
      "  .format(len(labels), len(target_names))\n"
     ]
    },
    {
     "name": "stdout",
     "output_type": "stream",
     "text": [
      "random seed =  20\n",
      "             precision    recall  f1-score   support\n",
      "\n",
      "         SS       0.73      0.40      0.52        89\n",
      "       CSiS       0.42      0.81      0.55        89\n",
      "       FSiS       0.84      0.53      0.65       117\n",
      "       SiSh       0.15      0.43      0.22         7\n",
      "         MS       0.00      0.00      0.00        19\n",
      "         WS       0.75      0.75      0.75        71\n",
      "          D       0.90      0.53      0.67        17\n",
      "         PS       0.69      0.78      0.73        40\n",
      "\n",
      "avg / total       0.66      0.59      0.59       449\n",
      "\n"
     ]
    },
    {
     "name": "stderr",
     "output_type": "stream",
     "text": [
      "C:\\Users\\Homeuser\\Anaconda3\\lib\\site-packages\\sklearn\\preprocessing\\label.py:151: DeprecationWarning: The truth value of an empty array is ambiguous. Returning False, but in future this will result in an error. Use `array.size > 0` to check that an array is not empty.\n",
      "  if diff:\n",
      "C:\\Users\\Homeuser\\Anaconda3\\lib\\site-packages\\sklearn\\metrics\\classification.py:1428: UserWarning: labels size, 8, does not match size of target_names, 9\n",
      "  .format(len(labels), len(target_names))\n"
     ]
    },
    {
     "name": "stdout",
     "output_type": "stream",
     "text": [
      "random seed =  30\n",
      "             precision    recall  f1-score   support\n",
      "\n",
      "         SS       0.73      0.40      0.52        89\n",
      "       CSiS       0.41      0.81      0.55        89\n",
      "       FSiS       0.82      0.50      0.62       117\n",
      "       SiSh       0.15      0.43      0.22         7\n",
      "         MS       0.00      0.00      0.00        19\n",
      "         WS       0.75      0.75      0.75        71\n",
      "          D       1.00      0.53      0.69        17\n",
      "         PS       0.70      0.80      0.74        40\n",
      "\n",
      "avg / total       0.66      0.59      0.59       449\n",
      "\n"
     ]
    },
    {
     "name": "stderr",
     "output_type": "stream",
     "text": [
      "C:\\Users\\Homeuser\\Anaconda3\\lib\\site-packages\\sklearn\\preprocessing\\label.py:151: DeprecationWarning: The truth value of an empty array is ambiguous. Returning False, but in future this will result in an error. Use `array.size > 0` to check that an array is not empty.\n",
      "  if diff:\n",
      "C:\\Users\\Homeuser\\Anaconda3\\lib\\site-packages\\sklearn\\metrics\\classification.py:1428: UserWarning: labels size, 8, does not match size of target_names, 9\n",
      "  .format(len(labels), len(target_names))\n"
     ]
    },
    {
     "name": "stdout",
     "output_type": "stream",
     "text": [
      "random seed =  40\n",
      "             precision    recall  f1-score   support\n",
      "\n",
      "         SS       0.77      0.40      0.53        89\n",
      "       CSiS       0.41      0.80      0.54        89\n",
      "       FSiS       0.82      0.53      0.64       117\n",
      "       SiSh       0.15      0.43      0.22         7\n",
      "         MS       0.00      0.00      0.00        19\n",
      "         WS       0.76      0.76      0.76        71\n",
      "          D       1.00      0.65      0.79        17\n",
      "         PS       0.72      0.82      0.77        40\n",
      "\n",
      "avg / total       0.67      0.60      0.60       449\n",
      "\n"
     ]
    },
    {
     "name": "stderr",
     "output_type": "stream",
     "text": [
      "C:\\Users\\Homeuser\\Anaconda3\\lib\\site-packages\\sklearn\\preprocessing\\label.py:151: DeprecationWarning: The truth value of an empty array is ambiguous. Returning False, but in future this will result in an error. Use `array.size > 0` to check that an array is not empty.\n",
      "  if diff:\n",
      "C:\\Users\\Homeuser\\Anaconda3\\lib\\site-packages\\sklearn\\metrics\\classification.py:1428: UserWarning: labels size, 8, does not match size of target_names, 9\n",
      "  .format(len(labels), len(target_names))\n"
     ]
    },
    {
     "name": "stdout",
     "output_type": "stream",
     "text": [
      "random seed =  50\n",
      "             precision    recall  f1-score   support\n",
      "\n",
      "         SS       0.74      0.42      0.53        89\n",
      "       CSiS       0.42      0.82      0.56        89\n",
      "       FSiS       0.83      0.50      0.63       117\n",
      "       SiSh       0.15      0.43      0.22         7\n",
      "         MS       0.00      0.00      0.00        19\n",
      "         WS       0.75      0.75      0.75        71\n",
      "          D       1.00      0.53      0.69        17\n",
      "         PS       0.68      0.80      0.74        40\n",
      "\n",
      "avg / total       0.67      0.59      0.59       449\n",
      "\n"
     ]
    },
    {
     "name": "stderr",
     "output_type": "stream",
     "text": [
      "C:\\Users\\Homeuser\\Anaconda3\\lib\\site-packages\\sklearn\\preprocessing\\label.py:151: DeprecationWarning: The truth value of an empty array is ambiguous. Returning False, but in future this will result in an error. Use `array.size > 0` to check that an array is not empty.\n",
      "  if diff:\n",
      "C:\\Users\\Homeuser\\Anaconda3\\lib\\site-packages\\sklearn\\metrics\\classification.py:1428: UserWarning: labels size, 8, does not match size of target_names, 9\n",
      "  .format(len(labels), len(target_names))\n"
     ]
    },
    {
     "name": "stdout",
     "output_type": "stream",
     "text": [
      "random seed =  60\n",
      "             precision    recall  f1-score   support\n",
      "\n",
      "         SS       0.78      0.40      0.53        89\n",
      "       CSiS       0.42      0.82      0.56        89\n",
      "       FSiS       0.84      0.55      0.66       117\n",
      "       SiSh       0.15      0.43      0.22         7\n",
      "         MS       0.00      0.00      0.00        19\n",
      "         WS       0.71      0.75      0.73        71\n",
      "          D       1.00      0.47      0.64        17\n",
      "         PS       0.67      0.70      0.68        40\n",
      "\n",
      "avg / total       0.67      0.59      0.59       449\n",
      "\n"
     ]
    },
    {
     "name": "stderr",
     "output_type": "stream",
     "text": [
      "C:\\Users\\Homeuser\\Anaconda3\\lib\\site-packages\\sklearn\\preprocessing\\label.py:151: DeprecationWarning: The truth value of an empty array is ambiguous. Returning False, but in future this will result in an error. Use `array.size > 0` to check that an array is not empty.\n",
      "  if diff:\n",
      "C:\\Users\\Homeuser\\Anaconda3\\lib\\site-packages\\sklearn\\metrics\\classification.py:1428: UserWarning: labels size, 8, does not match size of target_names, 9\n",
      "  .format(len(labels), len(target_names))\n"
     ]
    },
    {
     "name": "stdout",
     "output_type": "stream",
     "text": [
      "random seed =  70\n",
      "             precision    recall  f1-score   support\n",
      "\n",
      "         SS       0.75      0.40      0.53        89\n",
      "       CSiS       0.41      0.81      0.55        89\n",
      "       FSiS       0.82      0.52      0.64       117\n",
      "       SiSh       0.14      0.43      0.21         7\n",
      "         MS       0.00      0.00      0.00        19\n",
      "         WS       0.75      0.73      0.74        71\n",
      "          D       0.89      0.47      0.62        17\n",
      "         PS       0.70      0.80      0.74        40\n",
      "\n",
      "avg / total       0.66      0.59      0.59       449\n",
      "\n"
     ]
    },
    {
     "name": "stderr",
     "output_type": "stream",
     "text": [
      "C:\\Users\\Homeuser\\Anaconda3\\lib\\site-packages\\sklearn\\preprocessing\\label.py:151: DeprecationWarning: The truth value of an empty array is ambiguous. Returning False, but in future this will result in an error. Use `array.size > 0` to check that an array is not empty.\n",
      "  if diff:\n",
      "C:\\Users\\Homeuser\\Anaconda3\\lib\\site-packages\\sklearn\\metrics\\classification.py:1428: UserWarning: labels size, 8, does not match size of target_names, 9\n",
      "  .format(len(labels), len(target_names))\n"
     ]
    },
    {
     "name": "stdout",
     "output_type": "stream",
     "text": [
      "random seed =  80\n",
      "             precision    recall  f1-score   support\n",
      "\n",
      "         SS       0.74      0.39      0.51        89\n",
      "       CSiS       0.41      0.81      0.55        89\n",
      "       FSiS       0.84      0.53      0.65       117\n",
      "       SiSh       0.15      0.43      0.22         7\n",
      "         MS       0.00      0.00      0.00        19\n",
      "         WS       0.76      0.76      0.76        71\n",
      "          D       0.91      0.59      0.71        17\n",
      "         PS       0.70      0.80      0.74        40\n",
      "\n",
      "avg / total       0.67      0.60      0.60       449\n",
      "\n"
     ]
    },
    {
     "name": "stderr",
     "output_type": "stream",
     "text": [
      "C:\\Users\\Homeuser\\Anaconda3\\lib\\site-packages\\sklearn\\preprocessing\\label.py:151: DeprecationWarning: The truth value of an empty array is ambiguous. Returning False, but in future this will result in an error. Use `array.size > 0` to check that an array is not empty.\n",
      "  if diff:\n",
      "C:\\Users\\Homeuser\\Anaconda3\\lib\\site-packages\\sklearn\\metrics\\classification.py:1428: UserWarning: labels size, 8, does not match size of target_names, 9\n",
      "  .format(len(labels), len(target_names))\n"
     ]
    },
    {
     "name": "stdout",
     "output_type": "stream",
     "text": [
      "random seed =  90\n",
      "             precision    recall  f1-score   support\n",
      "\n",
      "         SS       0.73      0.39      0.51        89\n",
      "       CSiS       0.40      0.79      0.53        89\n",
      "       FSiS       0.80      0.48      0.60       117\n",
      "       SiSh       0.15      0.43      0.22         7\n",
      "         MS       0.00      0.00      0.00        19\n",
      "         WS       0.75      0.76      0.76        71\n",
      "          D       1.00      0.59      0.74        17\n",
      "         PS       0.65      0.80      0.72        40\n",
      "\n",
      "avg / total       0.65      0.58      0.58       449\n",
      "\n",
      "random seed =  100\n",
      "             precision    recall  f1-score   support\n",
      "\n",
      "         SS       0.78      0.39      0.52        89\n",
      "       CSiS       0.42      0.82      0.56        89\n",
      "       FSiS       0.83      0.56      0.67       117\n",
      "       SiSh       0.15      0.43      0.22         7\n",
      "         MS       0.00      0.00      0.00        19\n",
      "         WS       0.72      0.75      0.73        71\n",
      "          D       0.90      0.53      0.67        17\n",
      "         PS       0.67      0.70      0.68        40\n",
      "\n",
      "avg / total       0.66      0.59      0.59       449\n",
      "\n"
     ]
    },
    {
     "name": "stderr",
     "output_type": "stream",
     "text": [
      "C:\\Users\\Homeuser\\Anaconda3\\lib\\site-packages\\sklearn\\preprocessing\\label.py:151: DeprecationWarning: The truth value of an empty array is ambiguous. Returning False, but in future this will result in an error. Use `array.size > 0` to check that an array is not empty.\n",
      "  if diff:\n",
      "C:\\Users\\Homeuser\\Anaconda3\\lib\\site-packages\\sklearn\\metrics\\classification.py:1428: UserWarning: labels size, 8, does not match size of target_names, 9\n",
      "  .format(len(labels), len(target_names))\n"
     ]
    }
   ],
   "source": [
    "from xgboost.sklearn import  XGBClassifier\n",
    "for seed in range(0,110,10):\n",
    "    np.random.seed(seed)\n",
    "    clf = XGBClassifier(learning_rate=0.12,max_depth=3,min_child_weight=10,n_estimators=150,seed=seed,colsample_bytree=0.9)\n",
    "    clf.fit(X_train, y_train)\n",
    "    y_pred = clf.predict(scaled_features_test)\n",
    "    print('random seed = ',seed)\n",
    "    print(classification_report(facies_labels_test, y_pred,target_names=target_names))"
   ]
  },
  {
   "cell_type": "code",
   "execution_count": 9,
   "metadata": {},
   "outputs": [],
   "source": [
    "#y_cv_pred = clf.predict(X_cv) \n",
    "#print(classification_report(y_cv, y_cv_pred,target_names=target_names))\n"
   ]
  },
  {
   "cell_type": "code",
   "execution_count": null,
   "metadata": {},
   "outputs": [],
   "source": []
  },
  {
   "cell_type": "code",
   "execution_count": null,
   "metadata": {},
   "outputs": [],
   "source": []
  },
  {
   "cell_type": "code",
   "execution_count": null,
   "metadata": {},
   "outputs": [],
   "source": [
    "\n"
   ]
  },
  {
   "cell_type": "code",
   "execution_count": null,
   "metadata": {},
   "outputs": [],
   "source": []
  }
 ],
 "metadata": {
  "kernelspec": {
   "display_name": "Python 3",
   "language": "python",
   "name": "python3"
  },
  "language_info": {
   "codemirror_mode": {
    "name": "ipython",
    "version": 3
   },
   "file_extension": ".py",
   "mimetype": "text/x-python",
   "name": "python",
   "nbconvert_exporter": "python",
   "pygments_lexer": "ipython3",
   "version": "3.6.4"
  }
 },
 "nbformat": 4,
 "nbformat_minor": 2
}
